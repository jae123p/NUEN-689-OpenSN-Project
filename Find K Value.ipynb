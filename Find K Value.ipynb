{
 "cells": [
  {
   "cell_type": "code",
   "execution_count": 1,
   "id": "0803fae8-554b-4e76-8464-e1dc6e33dd52",
   "metadata": {},
   "outputs": [],
   "source": [
    "import sys\n",
    "import os\n",
    "import numpy as np\n",
    "import opensn"
   ]
  },
  {
   "cell_type": "code",
   "execution_count": 2,
   "id": "59f901ab-a465-43dc-9a68-4eadd2acaf91",
   "metadata": {},
   "outputs": [],
   "source": [
    "from mpi4py import MPI\n",
    "size = MPI.COMM_WORLD.size\n",
    "rank = MPI.COMM_WORLD.rank\n",
    "\n",
    "from pyopensn.mesh import FromFileMeshGenerator, PETScGraphPartitioner\n",
    "from pyopensn.xs import MultiGroupXS\n",
    "from pyopensn.aquad import GLCProductQuadrature3DXYZ\n",
    "from pyopensn.solver import DiscreteOrdinatesProblem, NonLinearKEigenSolver\n",
    "from pyopensn.fieldfunc import FieldFunctionGridBased"
   ]
  },
  {
   "cell_type": "code",
   "execution_count": 3,
   "id": "cb9c830c-c663-4b20-bbbd-49310c64e3e6",
   "metadata": {},
   "outputs": [
    {
     "name": "stdout",
     "output_type": "stream",
     "text": [
      "OpenSn version 0.0.1\n",
      "2025-05-05 20:11:06 Running OpenSn with 1 processes.\n",
      "\n",
      "[0]  FromFileMeshGenerator: Generating UnpartitionedMesh\n",
      "[0]  Making unpartitioned mesh from Gmsh file case_6.msh (format v4.1)\n",
      "[0]  Mesh identified as 3D.\n",
      "[0]  Done checking cell-center-to-face orientations\n",
      "[0]  00:00:00.0 Establishing cell connectivity.\n",
      "[0]  00:00:00.1 Vertex cell subscriptions complete.\n",
      "[0]  00:00:00.1 Surpassing cell 1439 of 14383 (10%)\n",
      "[0]  00:00:00.1 Surpassing cell 2877 of 14383 (20%)\n",
      "[0]  00:00:00.2 Surpassing cell 4315 of 14383 (30%)\n",
      "[0]  00:00:00.2 Surpassing cell 5754 of 14383 (40%)\n",
      "[0]  00:00:00.2 Surpassing cell 7192 of 14383 (50%)\n",
      "[0]  00:00:00.2 Surpassing cell 8630 of 14383 (60%)\n",
      "[0]  00:00:00.2 Surpassing cell 10069 of 14383 (70%)\n",
      "[0]  00:00:00.3 Surpassing cell 11507 of 14383 (80%)\n",
      "[0]  00:00:00.3 Surpassing cell 12945 of 14383 (90%)\n",
      "[0]  00:00:00.3 Surpassing cell 14383 of 14383 (100%)\n",
      "[0]  00:00:00.3 Establishing cell boundary connectivity.\n",
      "[0]  00:00:00.3 Done establishing cell connectivity.\n",
      "[0]  Done processing case_6.msh.\n",
      "[0]  Number of nodes read: 2950\n",
      "[0]  Number of cells read: 14383\n",
      "[0]  Number of cells per partition (max,min,avg) = 14383,14383,14383\n",
      "[0]  \n",
      "[0]  Mesh statistics:\n",
      "[0]    Global cell count             : 14383\n",
      "[0]    Local cell count (avg,max,min): 14383,14383,14383\n",
      "[0]    Ghost-to-local ratio (avg)    : 0\n",
      "[0]  \n"
     ]
    }
   ],
   "source": [
    "meshgen = FromFileMeshGenerator(filename=\"case_6.msh\", partitioner=PETScGraphPartitioner(type='parmetis'))\n",
    "grid = meshgen.Execute()"
   ]
  },
  {
   "cell_type": "code",
   "execution_count": 4,
   "id": "a5effcd3-7e04-4798-9316-29924f6a349f",
   "metadata": {},
   "outputs": [],
   "source": [
    "volumes_per_block = grid.ComputeVolumePerBlockID()"
   ]
  },
  {
   "cell_type": "code",
   "execution_count": 5,
   "id": "34c0a61b-14d1-46ce-a40d-870f1c31b1f4",
   "metadata": {},
   "outputs": [],
   "source": [
    "radii = {1: 6.0509, 2: 26.3709}\n",
    "block_ids = sorted(volumes_per_block.keys())"
   ]
  },
  {
   "cell_type": "code",
   "execution_count": 6,
   "id": "dd813e6a-bcbb-47b3-a0fa-ab3fb883e303",
   "metadata": {},
   "outputs": [],
   "source": [
    "exact_volumes_per_block = {}\n",
    "prev_R = 0.0\n",
    "for blk in block_ids:\n",
    "    R = radii[blk]\n",
    "    # shell from prev_R to R\n",
    "    exact_volumes_per_block[blk] = (4.0 / 3.0) * np.pi * (R**3 - prev_R**3)\n",
    "    prev_R = R"
   ]
  },
  {
   "cell_type": "code",
   "execution_count": 7,
   "id": "fec98f6c-c895-4c3c-b6e3-04598aa04ae7",
   "metadata": {},
   "outputs": [],
   "source": [
    "ratios = np.array([\n",
    "    exact_volumes_per_block[blk] / volumes_per_block[blk]\n",
    "    for blk in block_ids\n",
    "])\n"
   ]
  },
  {
   "cell_type": "code",
   "execution_count": 8,
   "id": "dd4f5f46-6853-4a89-8be2-cd73b03115ce",
   "metadata": {},
   "outputs": [
    {
     "name": "stdout",
     "output_type": "stream",
     "text": [
      "Block 1: measured = 8.61216846618e+02,  exact = 9.28001196605e+02,  ratio = 1.077546\n",
      "Block 2: measured = 7.56068177582e+04,  exact = 7.58900817710e+04,  ratio = 1.003747\n"
     ]
    }
   ],
   "source": [
    "if rank == 0:\n",
    "    for idx, blk in enumerate(block_ids):\n",
    "        print(f\"Block {blk}: measured = {volumes_per_block[blk]:.11e}, \"\n",
    "              f\" exact = {exact_volumes_per_block[blk]:.11e}, \"\n",
    "              f\" ratio = {ratios[idx]:.6f}\")\n"
   ]
  },
  {
   "cell_type": "code",
   "execution_count": 9,
   "id": "5aeb1c69-0510-4e51-9485-a48ac3613677",
   "metadata": {},
   "outputs": [
    {
     "name": "stdout",
     "output_type": "stream",
     "text": [
      "num groups =[0]  Reading OpenMC cross-section file \"oralloy.h5\"\n",
      " 30\n",
      "[0]  oralloy.h5 cross-section data evaluated at 294K\n",
      "[0]  *** WARNING ***  Estimating absorption from the transfer matrices.\n",
      "[0]  *** WARNING ***  Negative transport cross section found for group 27 in call to ComputeDiffusionParameters. sigma_t=0 sigma_1=0. Setting sigma_1=0, sigma_tr=sigma_t for this group.\n",
      "[0]  *** WARNING ***  Negative transport cross section found for group 28 in call to ComputeDiffusionParameters. sigma_t=0 sigma_1=0. Setting sigma_1=0, sigma_tr=sigma_t for this group.\n",
      "[0]  *** WARNING ***  Negative transport cross section found for group 29 in call to ComputeDiffusionParameters. sigma_t=0 sigma_1=0. Setting sigma_1=0, sigma_tr=sigma_t for this group.\n",
      "[0]  *** WARNING ***  Negative transport cross section found for group 27 in call to ComputeDiffusionParameters. sigma_t=0 sigma_1=0. Setting sigma_1=0, sigma_tr=sigma_t for this group.\n",
      "[0]  *** WARNING ***  Negative transport cross section found for group 28 in call to ComputeDiffusionParameters. sigma_t=0 sigma_1=0. Setting sigma_1=0, sigma_tr=sigma_t for this group.\n",
      "[0]  *** WARNING ***  Negative transport cross section found for group 29 in call to ComputeDiffusionParameters. sigma_t=0 sigma_1=0. Setting sigma_1=0, sigma_tr=sigma_t for this group.\n",
      "[0]  Reading OpenMC cross-section file \"tuballoy.h5\"\n",
      "[0]  tuballoy.h5 cross-section data evaluated at 294K\n",
      "[0]  *** WARNING ***  Estimating absorption from the transfer matrices.\n",
      "[0]  *** WARNING ***  Negative absorption cross section encountered in group 0 when estimating from the transfer matrices\n",
      "[0]  *** WARNING ***  Negative transport cross section found for group 27 in call to ComputeDiffusionParameters. sigma_t=0 sigma_1=0. Setting sigma_1=0, sigma_tr=sigma_t for this group.\n",
      "[0]  *** WARNING ***  Negative transport cross section found for group 28 in call to ComputeDiffusionParameters. sigma_t=0 sigma_1=0. Setting sigma_1=0, sigma_tr=sigma_t for this group.\n",
      "[0]  *** WARNING ***  Negative transport cross section found for group 29 in call to ComputeDiffusionParameters. sigma_t=0 sigma_1=0. Setting sigma_1=0, sigma_tr=sigma_t for this group.\n",
      "[0]  *** WARNING ***  Negative transport cross section found for group 27 in call to ComputeDiffusionParameters. sigma_t=0 sigma_1=0. Setting sigma_1=0, sigma_tr=sigma_t for this group.\n",
      "[0]  *** WARNING ***  Negative transport cross section found for group 28 in call to ComputeDiffusionParameters. sigma_t=0 sigma_1=0. Setting sigma_1=0, sigma_tr=sigma_t for this group.\n",
      "[0]  *** WARNING ***  Negative transport cross section found for group 29 in call to ComputeDiffusionParameters. sigma_t=0 sigma_1=0. Setting sigma_1=0, sigma_tr=sigma_t for this group.\n"
     ]
    }
   ],
   "source": [
    "xs_oralloy = MultiGroupXS()\n",
    "xs_oralloy.LoadFromOpenMC(\"oralloy.h5\", \"set1\", 294.0)\n",
    "xs_oralloy.SetScalingFactor(ratios[0])\n",
    "\n",
    "xs_tuballoy = MultiGroupXS()\n",
    "xs_tuballoy.LoadFromOpenMC(\"tuballoy.h5\", \"set1\", 294.0)\n",
    "xs_tuballoy.SetScalingFactor(ratios[1])\n",
    "\n",
    "num_groups = xs_tuballoy.num_groups\n",
    "if rank == 0:\n",
    "    print(\"num groups =\", num_groups)"
   ]
  },
  {
   "cell_type": "code",
   "execution_count": 10,
   "id": "061417d2-26aa-424c-bb6e-e45ac3b64955",
   "metadata": {},
   "outputs": [],
   "source": [
    "phys = DiscreteOrdinatesProblem(\n",
    "    mesh=grid,\n",
    "    num_groups=num_groups,\n",
    "    groupsets=[\n",
    "        {\n",
    "            \"groups_from_to\": (0, num_groups - 1),\n",
    "            \"angular_quadrature\": GLCProductQuadrature3DXYZ(8, 16),\n",
    "            \"inner_linear_method\": \"petsc_gmres\",\n",
    "            \"angle_aggregation_type\": \"single\",\n",
    "            \"angle_aggregation_num_subsets\": 1,\n",
    "            \"l_max_its\": 500,\n",
    "            \"l_abs_tol\": 1.0e-6,\n",
    "        },\n",
    "    ],\n",
    "    xs_map=[\n",
    "        {\"block_ids\": [1], \"xs\": xs_oralloy},\n",
    "        {\"block_ids\": [2], \"xs\": xs_tuballoy},\n",
    "    ],\n",
    "    options={\n",
    "        \"scattering_order\": 3,\n",
    "        \"use_precursors\": False,\n",
    "        \"verbose_inner_iterations\": True,\n",
    "        \"verbose_outer_iterations\": True,\n",
    "    },\n",
    ")\n"
   ]
  },
  {
   "cell_type": "code",
   "execution_count": null,
   "id": "a4da0be6-5778-4560-b113-c84ce84f491c",
   "metadata": {},
   "outputs": [],
   "source": [
    "k_solver = NonLinearKEigenSolver(\n",
    "    lbs_problem=phys,\n",
    "    nl_max_its=500,\n",
    "    nl_abs_tol=1.0e-8,\n",
    ")\n",
    "k_solver.Initialize()\n",
    "k_solver.Execute()\n",
    "k = k_solver.GetEigenvalue()\n",
    "# only rank 0 prints\n",
    "if rank == 0:\n",
    "    print(f\"Computed k-eigenvalue: {k}\")\n"
   ]
  },
  {
   "cell_type": "code",
   "execution_count": 12,
   "id": "976df4e5-b5af-46f9-aef9-52529b4262ae",
   "metadata": {},
   "outputs": [
    {
     "name": "stdout",
     "output_type": "stream",
     "text": [
      "[0]  Exporting field functions to VTK with file base \"HEU_MET_FAST_003\"\n",
      "[0]  Done exporting field functions to VTK.\n"
     ]
    }
   ],
   "source": [
    "fflist = phys.GetScalarFieldFunctionList(only_scalar_flux=False)\n",
    "vtk_basename = \"HEU_MET_FAST_003\"\n",
    "# export only the flux of group g (first []), moment 0 (second [])\n",
    "FieldFunctionGridBased.ExportMultipleToVTK(\n",
    "    [fflist[g][0] for g in range(num_groups)],\n",
    "    vtk_basename\n",
    ")"
   ]
  },
  {
   "cell_type": "code",
   "execution_count": null,
   "id": "100514e8-a17f-4790-ac42-58086ef08f75",
   "metadata": {},
   "outputs": [],
   "source": []
  }
 ],
 "metadata": {
  "kernelspec": {
   "display_name": "Python 3 (ipykernel)",
   "language": "python",
   "name": "python3"
  },
  "language_info": {
   "codemirror_mode": {
    "name": "ipython",
    "version": 3
   },
   "file_extension": ".py",
   "mimetype": "text/x-python",
   "name": "python",
   "nbconvert_exporter": "python",
   "pygments_lexer": "ipython3",
   "version": "3.10.12"
  }
 },
 "nbformat": 4,
 "nbformat_minor": 5
}
