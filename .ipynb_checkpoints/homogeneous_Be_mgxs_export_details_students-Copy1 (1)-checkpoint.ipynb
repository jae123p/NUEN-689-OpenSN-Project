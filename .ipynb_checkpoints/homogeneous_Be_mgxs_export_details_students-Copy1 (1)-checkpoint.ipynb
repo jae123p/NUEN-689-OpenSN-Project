{
 "cells": [
  {
   "cell_type": "markdown",
   "id": "394d1d5f",
   "metadata": {},
   "source": [
    "# Generation of MGXS for a homogeneous cell, using OpenMC"
   ]
  },
  {
   "cell_type": "markdown",
   "id": "d93b852e",
   "metadata": {},
   "source": [
    "## Environment"
   ]
  },
  {
   "cell_type": "code",
   "execution_count": 1,
   "id": "a861146a",
   "metadata": {},
   "outputs": [],
   "source": [
    "import math\n",
    "import numpy as np\n",
    "\n",
    "import matplotlib as mpl\n",
    "import matplotlib.pyplot as plt\n",
    "\n",
    "import openmc\n",
    "import openmc.mgxs"
   ]
  },
  {
   "cell_type": "code",
   "execution_count": 2,
   "id": "87b5efdc",
   "metadata": {},
   "outputs": [
    {
     "name": "stdout",
     "output_type": "stream",
     "text": [
      "env: OPENMC_CROSS_SECTIONS=/Users/jean.ragusa/repo/endfb-viii.0-hdf5/cross_sections.xml\n"
     ]
    }
   ],
   "source": [
    "import os\n",
    "\n",
    "# Add path to OpenMC binary\n",
    "# os.environ['PATH'] += r':/path/to/openmc/bin'\n",
    "os.environ['PATH'] += r':/Users/jean.ragusa/repo/openmc/local/bin'\n",
    "\n",
    "# Add location of OpenMC xs data\n",
    "%env OPENMC_CROSS_SECTIONS=/Users/jean.ragusa/repo/endfb-viii.0-hdf5/cross_sections.xml"
   ]
  },
  {
   "cell_type": "markdown",
   "id": "e3322b53",
   "metadata": {},
   "source": [
    "## Initialize empty model"
   ]
  },
  {
   "cell_type": "code",
   "execution_count": 7,
   "id": "a7683c29",
   "metadata": {},
   "outputs": [],
   "source": [
    "model = openmc.Model()"
   ]
  },
  {
   "cell_type": "markdown",
   "id": "14cd6acc",
   "metadata": {},
   "source": [
    "## Materials\n",
    "- name is optional\n",
    "\n",
    "- use `add_nuclide` for nuclides\n",
    "- use `add_element` for elements\n",
    "\n",
    "- do not forget $S(\\alpha,\\beta)$ when needed"
   ]
  },
  {
   "cell_type": "code",
   "execution_count": 39,
   "id": "5bab6838",
   "metadata": {},
   "outputs": [],
   "source": [
    "mat = openmc.Material(name='Be')\n",
    "mat.add_nuclide('Be9', 1.)\n",
    "mat.set_density('g/cm3', 1.85)\n",
    "mat.temperature = 600.\n",
    "# mat.add_s_alpha_beta('c_H_in_CH2')"
   ]
  },
  {
   "cell_type": "code",
   "execution_count": 40,
   "id": "e162b90d",
   "metadata": {},
   "outputs": [],
   "source": [
    "model.materials = openmc.Materials([mat])"
   ]
  },
  {
   "cell_type": "code",
   "execution_count": 41,
   "id": "42fd7d0b",
   "metadata": {
    "scrolled": true
   },
   "outputs": [
    {
     "name": "stdout",
     "output_type": "stream",
     "text": [
      "Material\n",
      "\tID             =\t7\n",
      "\tName           =\tBe\n",
      "\tTemperature    =\t600.0\n",
      "\tDensity        =\t1.85 [g/cm3]\n",
      "\tVolume         =\tNone [cm^3]\n",
      "\tDepletable     =\tFalse\n",
      "\tS(a,b) Tables  \n",
      "\tNuclides       \n",
      "\tBe9            =\t1.0          [ao]\n",
      "\n"
     ]
    }
   ],
   "source": [
    "print(mat)"
   ]
  },
  {
   "cell_type": "markdown",
   "id": "1d83e291",
   "metadata": {},
   "source": [
    "## Geometry\n",
    "### Surfaces"
   ]
  },
  {
   "cell_type": "code",
   "execution_count": 42,
   "id": "bab4440c",
   "metadata": {},
   "outputs": [],
   "source": [
    "side  = 10.\n",
    "\n",
    "left   = openmc.XPlane(x0 =-side, boundary_type='reflective')\n",
    "right  = openmc.XPlane(x0 = side, boundary_type='reflective')\n",
    "bottom = openmc.YPlane(y0 =-side, boundary_type='reflective')\n",
    "top    = openmc.YPlane(y0 = side, boundary_type='reflective')\n",
    "front  = openmc.ZPlane(z0 =-side, boundary_type='reflective')\n",
    "back   = openmc.ZPlane(z0 = side, boundary_type='reflective')"
   ]
  },
  {
   "cell_type": "markdown",
   "id": "3a858708",
   "metadata": {},
   "source": [
    "### Regions based on surfaces"
   ]
  },
  {
   "cell_type": "code",
   "execution_count": 43,
   "id": "2e0b581e",
   "metadata": {},
   "outputs": [],
   "source": [
    "region = +left & -right & +bottom & -top & +front & -back "
   ]
  },
  {
   "cell_type": "markdown",
   "id": "523a4eb7",
   "metadata": {},
   "source": [
    "### Cells (= regions + materials)"
   ]
  },
  {
   "cell_type": "code",
   "execution_count": 44,
   "id": "ae6c180e",
   "metadata": {},
   "outputs": [],
   "source": [
    "mat_cell = openmc.Cell(name='Be9cell')\n",
    "mat_cell.fill = mat\n",
    "mat_cell.region = region"
   ]
  },
  {
   "cell_type": "code",
   "execution_count": 45,
   "id": "43cf0203",
   "metadata": {},
   "outputs": [
    {
     "name": "stdout",
     "output_type": "stream",
     "text": [
      "Cell\n",
      "\tID             =\t3\n",
      "\tName           =\tBe9cell\n",
      "\tFill           =\tMaterial 7\n",
      "\tRegion         =\t(13 -14 15 -16 17 -18)\n",
      "\tRotation       =\tNone\n",
      "\tTemperature    =\tNone\n",
      "\tTranslation    =\tNone\n",
      "\tVolume         =\tNone\n",
      "\n"
     ]
    }
   ],
   "source": [
    "print(mat_cell)"
   ]
  },
  {
   "cell_type": "markdown",
   "id": "23987d21",
   "metadata": {},
   "source": [
    "## Universes"
   ]
  },
  {
   "cell_type": "code",
   "execution_count": 46,
   "id": "e26de5c2",
   "metadata": {},
   "outputs": [],
   "source": [
    "root_universe = openmc.Universe()\n",
    "root_universe.add_cell(mat_cell)"
   ]
  },
  {
   "cell_type": "code",
   "execution_count": 47,
   "id": "2541d9a1",
   "metadata": {},
   "outputs": [],
   "source": [
    "model.geometry = openmc.Geometry(root_universe)"
   ]
  },
  {
   "cell_type": "markdown",
   "id": "bf34965e",
   "metadata": {},
   "source": [
    "## Simulations parameters\n",
    "### Source"
   ]
  },
  {
   "cell_type": "code",
   "execution_count": 48,
   "id": "d3ff831d",
   "metadata": {},
   "outputs": [],
   "source": [
    "bounds = [-side, -side, -side, side, side, side]\n",
    "uniform_dist = openmc.stats.Box(bounds[:3], bounds[3:])\n",
    "\n",
    "energy_dist = openmc.stats.Uniform(a=0.0e6,b=20.0e6)\n",
    "\n",
    "source = openmc.IndependentSource(space=uniform_dist, energy=energy_dist)"
   ]
  },
  {
   "cell_type": "markdown",
   "id": "054824db",
   "metadata": {},
   "source": [
    "### particle/batches/basic tally"
   ]
  },
  {
   "cell_type": "code",
   "execution_count": 49,
   "id": "27f4ba19",
   "metadata": {
    "scrolled": false
   },
   "outputs": [],
   "source": [
    "batches = 50\n",
    "# inactive = 10 # not needed for source-driven problems\n",
    "particles = 5000\n",
    "\n",
    "# Instantiate a Settings object\n",
    "settings = openmc.Settings()\n",
    "\n",
    "settings.source = source\n",
    "settings.batches = batches\n",
    "# settings.inactive = inactive\n",
    "settings.particles = particles\n",
    "settings.run_mode = 'fixed source'\n",
    "\n",
    "my_path = './mgxs_' + mat.name\n",
    "settings.output = {'tallies': False, 'path':my_path}\n",
    "\n",
    "model.settings = settings"
   ]
  },
  {
   "cell_type": "markdown",
   "id": "37094476",
   "metadata": {},
   "source": [
    "### check if folder exists"
   ]
  },
  {
   "cell_type": "code",
   "execution_count": 50,
   "id": "82f083c4",
   "metadata": {},
   "outputs": [],
   "source": [
    "import pathlib\n",
    "path = pathlib.Path(my_path)\n",
    "path.mkdir(parents=True, exist_ok=True)"
   ]
  },
  {
   "cell_type": "markdown",
   "id": "69ae7c18",
   "metadata": {},
   "source": [
    "### pick energy-group structure"
   ]
  },
  {
   "cell_type": "code",
   "execution_count": 51,
   "id": "1e6d23bb",
   "metadata": {
    "scrolled": true
   },
   "outputs": [
    {
     "name": "stdout",
     "output_type": "stream",
     "text": [
      "CASMO-2\n",
      "CASMO-4\n",
      "CASMO-8\n",
      "CASMO-16\n",
      "CASMO-25\n",
      "CASMO-40\n",
      "VITAMIN-J-42\n",
      "SCALE-44\n",
      "MPACT-51\n",
      "MPACT-60\n",
      "MPACT-69\n",
      "CASMO-70\n",
      "XMAS-172\n",
      "VITAMIN-J-175\n",
      "SCALE-252\n",
      "TRIPOLI-315\n",
      "SHEM-361\n",
      "CCFE-709\n",
      "UKAEA-1102\n",
      "ECCO-1968\n"
     ]
    }
   ],
   "source": [
    "for key in openmc.mgxs.GROUP_STRUCTURES.keys():\n",
    "    print(key)"
   ]
  },
  {
   "cell_type": "code",
   "execution_count": 52,
   "id": "14a60f98",
   "metadata": {},
   "outputs": [],
   "source": [
    "groups = openmc.mgxs.EnergyGroups(group_edges='XMAS-172')"
   ]
  },
  {
   "cell_type": "markdown",
   "id": "43862b7f",
   "metadata": {},
   "source": [
    "## Tallies for MGXS generation"
   ]
  },
  {
   "cell_type": "markdown",
   "id": "ed76f6c0",
   "metadata": {},
   "source": [
    "### Supported cross section types\n",
    "MGXS_TYPES = (\n",
    "    'total',\n",
    "    'transport',\n",
    "    'nu-transport',\n",
    "    'absorption',\n",
    "    'reduced absorption',\n",
    "    'capture',\n",
    "    'fission',\n",
    "    'nu-fission',\n",
    "    'kappa-fission',\n",
    "    'scatter',\n",
    "    'nu-scatter',\n",
    "    'scatter matrix',\n",
    "    'nu-scatter matrix',\n",
    "    'multiplicity matrix',\n",
    "    'nu-fission matrix',\n",
    "    'scatter probability matrix',\n",
    "    'consistent scatter matrix',\n",
    "    'consistent nu-scatter matrix',\n",
    "    'chi',\n",
    "    'chi-prompt',\n",
    "    'inverse-velocity',\n",
    "    'prompt-nu-fission',\n",
    "    'prompt-nu-fission matrix',\n",
    "    'current',\n",
    "    'diffusion-coefficient',\n",
    "    'nu-diffusion-coefficient'\n",
    ")"
   ]
  },
  {
   "cell_type": "code",
   "execution_count": 53,
   "id": "980da123",
   "metadata": {},
   "outputs": [
    {
     "name": "stderr",
     "output_type": "stream",
     "text": [
      "/Users/jean.ragusa/anaconda3/lib/python3.11/site-packages/openmc/mgxs/library.py:401: RuntimeWarning: The P0 correction will be ignored since the scattering order 3 is greater than zero\n",
      "  warn(msg, RuntimeWarning)\n"
     ]
    }
   ],
   "source": [
    "# Initialize MGXS Library\n",
    "mgxs_lib = openmc.mgxs.Library(model.geometry)\n",
    "\n",
    "# Add the chosen group structure\n",
    "mgxs_lib.energy_groups = groups\n",
    "\n",
    "# Scatttering Format and Legendre Order\n",
    "mgxs_lib.scatter_format = \"legendre\"\n",
    "mgxs_lib.legendre_order = 3\n",
    "\n",
    "# Specify multi-group cross-section types to compute\n",
    "mgxs_lib.mgxs_types = ['total', 'absorption', 'reduced absorption', 'scatter matrix', 'nu-scatter matrix',\\\n",
    "                       'consistent nu-scatter matrix', 'multiplicity matrix']\n",
    "\n",
    "# set uncertainty goal\n",
    "mgxs_lib.tally_trigger = openmc.Trigger('std_dev', 1e-4)\n",
    "\n",
    "# Compute cross sections on a nuclide-by-nuclide basis\n",
    "mgxs_lib.by_nuclide = False\n",
    "\n",
    "# Specify a \"cell\" domain type for the cross section tally filters\n",
    "mgxs_lib.domain_type = 'cell'\n",
    "\n",
    "# Specify the cell domains over which to compute multi-group cross sections\n",
    "mgxs_lib.domains = model.geometry.get_all_material_cells().values()\n",
    "\n",
    "# Construct all tallies needed for the multi-group cross section library\n",
    "mgxs_lib.build_library()\n",
    "\n",
    "tallies = openmc.Tallies()\n",
    "mgxs_lib.add_to_tallies_file(tallies, merge=True)\n",
    "model.tallies = tallies\n"
   ]
  },
  {
   "cell_type": "markdown",
   "id": "627e4785",
   "metadata": {},
   "source": [
    "## Export model to XML"
   ]
  },
  {
   "cell_type": "code",
   "execution_count": 54,
   "id": "7cd6603f",
   "metadata": {},
   "outputs": [
    {
     "name": "stderr",
     "output_type": "stream",
     "text": [
      "/Users/jean.ragusa/anaconda3/lib/python3.11/site-packages/openmc/mixin.py:70: IDWarning: Another Filter instance already exists with id=22.\n",
      "  warn(msg, IDWarning)\n",
      "/Users/jean.ragusa/anaconda3/lib/python3.11/site-packages/openmc/mixin.py:70: IDWarning: Another Filter instance already exists with id=23.\n",
      "  warn(msg, IDWarning)\n",
      "/Users/jean.ragusa/anaconda3/lib/python3.11/site-packages/openmc/mixin.py:70: IDWarning: Another Filter instance already exists with id=30.\n",
      "  warn(msg, IDWarning)\n"
     ]
    }
   ],
   "source": [
    " model.export_to_model_xml(path = my_path + '/' + mat_cell.name + '.xml')"
   ]
  },
  {
   "cell_type": "markdown",
   "id": "5cb530f0",
   "metadata": {},
   "source": [
    "## Run OpenMC"
   ]
  },
  {
   "cell_type": "code",
   "execution_count": 55,
   "id": "c4730e61",
   "metadata": {},
   "outputs": [
    {
     "name": "stdout",
     "output_type": "stream",
     "text": [
      "sp NOT found\n"
     ]
    }
   ],
   "source": [
    "# trick to make several runs work with jupyter\n",
    "try:\n",
    "    sp \n",
    "    print('sp found')\n",
    "    sp.close()\n",
    "except NameError:\n",
    "    print('sp NOT found')"
   ]
  },
  {
   "cell_type": "code",
   "execution_count": 56,
   "id": "338ac42e",
   "metadata": {
    "scrolled": false
   },
   "outputs": [
    {
     "name": "stdout",
     "output_type": "stream",
     "text": [
      "                                %%%%%%%%%%%%%%%\n",
      "                           %%%%%%%%%%%%%%%%%%%%%%%%\n",
      "                        %%%%%%%%%%%%%%%%%%%%%%%%%%%%%%\n",
      "                      %%%%%%%%%%%%%%%%%%%%%%%%%%%%%%%%%%\n",
      "                    %%%%%%%%%%%%%%%%%%%%%%%%%%%%%%%%%%%%%%\n",
      "                   %%%%%%%%%%%%%%%%%%%%%%%%%%%%%%%%%%%%%%%%\n",
      "                                    %%%%%%%%%%%%%%%%%%%%%%%%\n",
      "                                     %%%%%%%%%%%%%%%%%%%%%%%%\n",
      "                 ###############      %%%%%%%%%%%%%%%%%%%%%%%%\n",
      "                ##################     %%%%%%%%%%%%%%%%%%%%%%%\n",
      "                ###################     %%%%%%%%%%%%%%%%%%%%%%%\n",
      "                ####################     %%%%%%%%%%%%%%%%%%%%%%\n",
      "                #####################     %%%%%%%%%%%%%%%%%%%%%\n",
      "                ######################     %%%%%%%%%%%%%%%%%%%%\n",
      "                #######################     %%%%%%%%%%%%%%%%%%\n",
      "                 #######################     %%%%%%%%%%%%%%%%%\n",
      "                 ######################     %%%%%%%%%%%%%%%%%\n",
      "                  ####################     %%%%%%%%%%%%%%%%%\n",
      "                    #################     %%%%%%%%%%%%%%%%%\n",
      "                     ###############     %%%%%%%%%%%%%%%%\n",
      "                       ############     %%%%%%%%%%%%%%%\n",
      "                          ########     %%%%%%%%%%%%%%\n",
      "                                      %%%%%%%%%%%\n",
      "\n",
      "                 | The OpenMC Monte Carlo Code\n",
      "       Copyright | 2011-2024 MIT, UChicago Argonne LLC, and contributors\n",
      "         License | https://docs.openmc.org/en/latest/license.html\n",
      "         Version | 0.14.1-dev\n",
      "        Git SHA1 | cfe210da22367ce5cf928482e7b74e48c909a7ee\n",
      "       Date/Time | 2025-02-05 13:43:24\n",
      "  OpenMP Threads | 12\n",
      "\n",
      " Reading model XML file 'model.xml' ...\n",
      " Reading cross sections XML file...\n",
      " Reading Be9 from /Users/jean.ragusa/repo/endfb-viii.0-hdf5/neutron/Be9.h5\n",
      " Minimum neutron data temperature: 600 K\n",
      " Maximum neutron data temperature: 600 K\n",
      " Preparing distributed cell instances...\n",
      " Writing summary.h5 file...\n",
      " Maximum neutron transport energy: 20000000 eV for Be9\n",
      "\n",
      " ===============>     FIXED SOURCE TRANSPORT SIMULATION     <===============\n",
      "\n",
      " Simulating batch 1\n",
      " Simulating batch 2\n",
      " Simulating batch 3\n",
      " Simulating batch 4\n",
      " Simulating batch 5\n",
      " Simulating batch 6\n",
      " Simulating batch 7\n",
      " Simulating batch 8\n",
      " Simulating batch 9\n",
      " Simulating batch 10\n",
      " Simulating batch 11\n",
      " Simulating batch 12\n",
      " Simulating batch 13\n",
      " Simulating batch 14\n",
      " Simulating batch 15\n",
      " Simulating batch 16\n",
      " Simulating batch 17\n",
      " Simulating batch 18\n",
      " Simulating batch 19\n",
      " Simulating batch 20\n",
      " Simulating batch 21\n",
      " Simulating batch 22\n",
      " Simulating batch 23\n",
      " Simulating batch 24\n",
      " Simulating batch 25\n",
      " Simulating batch 26\n",
      " Simulating batch 27\n",
      " Simulating batch 28\n",
      " Simulating batch 29\n",
      " Simulating batch 30\n",
      " Simulating batch 31\n",
      " Simulating batch 32\n",
      " Simulating batch 33\n",
      " Simulating batch 34\n",
      " Simulating batch 35\n",
      " Simulating batch 36\n",
      " Simulating batch 37\n",
      " Simulating batch 38\n",
      " Simulating batch 39\n",
      " Simulating batch 40\n",
      " Simulating batch 41\n",
      " Simulating batch 42\n",
      " Simulating batch 43\n",
      " Simulating batch 44\n",
      " Simulating batch 45\n",
      " Simulating batch 46\n",
      " Simulating batch 47\n",
      " Simulating batch 48\n",
      " Simulating batch 49\n",
      " Simulating batch 50\n",
      " Creating state point ./mgxs_Be/statepoint.50.h5...\n",
      "\n",
      " =======================>     TIMING STATISTICS     <=======================\n",
      "\n",
      " Total time for initialization     = 3.5924e-02 seconds\n",
      "   Reading cross sections          = 1.3117e-02 seconds\n",
      " Total time in simulation          = 7.4036e+01 seconds\n",
      "   Time in transport only          = 7.4006e+01 seconds\n",
      "   Time in active batches          = 7.4036e+01 seconds\n",
      "   Time accumulating tallies       = 1.9348e-02 seconds\n",
      "   Time writing statepoints        = 9.3480e-03 seconds\n",
      " Total time for finalization       = 0.0000e+00 seconds\n",
      " Total time elapsed                = 7.4073e+01 seconds\n",
      " Calculation Rate (active)         = 3376.72 particles/second\n",
      "\n",
      " ============================>     RESULTS     <============================\n",
      "\n",
      " Leakage Fraction            = 0.00000 +/- 0.00000\n",
      "\n"
     ]
    }
   ],
   "source": [
    "sp_file = model.run()"
   ]
  },
  {
   "cell_type": "markdown",
   "id": "d3eace41",
   "metadata": {},
   "source": [
    "## Tally data processing"
   ]
  },
  {
   "cell_type": "code",
   "execution_count": 57,
   "id": "d9290f85",
   "metadata": {},
   "outputs": [],
   "source": [
    "# Load the last statepoint file\n",
    "sp = openmc.StatePoint(sp_file)"
   ]
  },
  {
   "cell_type": "code",
   "execution_count": 58,
   "id": "5c1114a8",
   "metadata": {},
   "outputs": [],
   "source": [
    "# Initialize MGXS Library with OpenMC statepoint data\n",
    "mgxs_lib.load_from_statepoint(sp)"
   ]
  },
  {
   "cell_type": "code",
   "execution_count": 59,
   "id": "eb165580",
   "metadata": {},
   "outputs": [],
   "source": [
    "mgxs_file = mgxs_lib.create_mg_library(xs_type = 'macro')\n",
    "mgxs_file.export_to_hdf5(filename = my_path + '/' + mat.name + '.h5')\n",
    "# os.rename('mgxs.h5', mat.name + '.h5')"
   ]
  },
  {
   "cell_type": "code",
   "execution_count": 60,
   "id": "0f7b5d68",
   "metadata": {},
   "outputs": [
    {
     "name": "stdout",
     "output_type": "stream",
     "text": [
      "[Cell\n",
      "\tID             =\t3\n",
      "\tName           =\tBe9cell\n",
      "\tFill           =\tMaterial 7\n",
      "\tRegion         =\t(13 -14 15 -16 17 -18)\n",
      "\tRotation       =\tNone\n",
      "\tTemperature    =\tNone\n",
      "\tTranslation    =\tNone\n",
      "\tVolume         =\tNone\n",
      "]\n"
     ]
    }
   ],
   "source": [
    "print(mgxs_lib.domains)"
   ]
  },
  {
   "cell_type": "code",
   "execution_count": 61,
   "id": "fd938d00",
   "metadata": {},
   "outputs": [
    {
     "data": {
      "text/plain": [
       "'Be9cell'"
      ]
     },
     "execution_count": 61,
     "metadata": {},
     "output_type": "execute_result"
    }
   ],
   "source": [
    "mgxs_lib.domains[0].name"
   ]
  },
  {
   "cell_type": "code",
   "execution_count": 62,
   "id": "cf79f94a",
   "metadata": {},
   "outputs": [
    {
     "data": {
      "text/plain": [
       "{3: {'total': <openmc.mgxs.mgxs.TotalXS at 0x10a948990>,\n",
       "  'absorption': <openmc.mgxs.mgxs.AbsorptionXS at 0x318d05dd0>,\n",
       "  'reduced absorption': <openmc.mgxs.mgxs.ReducedAbsorptionXS at 0x3128764d0>,\n",
       "  'scatter matrix': <openmc.mgxs.mgxs.ScatterMatrixXS at 0x3195a1890>,\n",
       "  'nu-scatter matrix': <openmc.mgxs.mgxs.ScatterMatrixXS at 0x318e7d710>,\n",
       "  'consistent nu-scatter matrix': <openmc.mgxs.mgxs.ScatterMatrixXS at 0x31954f210>,\n",
       "  'multiplicity matrix': <openmc.mgxs.mgxs.MultiplicityMatrixXS at 0x11cf13b90>}}"
      ]
     },
     "execution_count": 62,
     "metadata": {},
     "output_type": "execute_result"
    }
   ],
   "source": [
    "mgxs_lib.all_mgxs"
   ]
  },
  {
   "cell_type": "code",
   "execution_count": 63,
   "id": "3b28e452",
   "metadata": {},
   "outputs": [
    {
     "name": "stdout",
     "output_type": "stream",
     "text": [
      "3\n"
     ]
    }
   ],
   "source": [
    "key = list(mgxs_lib.all_mgxs.keys())[0]\n",
    "print(key)"
   ]
  },
  {
   "cell_type": "code",
   "execution_count": 64,
   "id": "9f6eadd6",
   "metadata": {
    "scrolled": true
   },
   "outputs": [
    {
     "data": {
      "text/plain": [
       "['total',\n",
       " 'absorption',\n",
       " 'reduced absorption',\n",
       " 'scatter matrix',\n",
       " 'nu-scatter matrix',\n",
       " 'consistent nu-scatter matrix',\n",
       " 'multiplicity matrix']"
      ]
     },
     "execution_count": 64,
     "metadata": {},
     "output_type": "execute_result"
    }
   ],
   "source": [
    "mgxs_lib.mgxs_types"
   ]
  },
  {
   "cell_type": "markdown",
   "id": "1becc05e",
   "metadata": {},
   "source": [
    "### collect XS data for plotting"
   ]
  },
  {
   "cell_type": "code",
   "execution_count": 65,
   "id": "a7040fbe",
   "metadata": {
    "scrolled": false
   },
   "outputs": [
    {
     "name": "stdout",
     "output_type": "stream",
     "text": [
      "\n",
      "xstype =  total\n",
      "['flux', 'total']\n",
      "Tally\n",
      "\tID             =\t88\n",
      "\tName           =\t\n",
      "\tFilters        =\tCellFilter, EnergyFilter\n",
      "\tNuclides       =\ttotal\n",
      "\tScores         =\t[(total / flux)]\n",
      "\tEstimator      =\ttracklength\n",
      "\tMultiply dens. =\tTrue\n",
      "(172,)\n",
      "\n",
      "xstype =  absorption\n",
      "['flux', 'absorption']\n",
      "Tally\n",
      "\tID             =\t89\n",
      "\tName           =\t\n",
      "\tFilters        =\tCellFilter, EnergyFilter\n",
      "\tNuclides       =\ttotal\n",
      "\tScores         =\t[(absorption / flux)]\n",
      "\tEstimator      =\ttracklength\n",
      "\tMultiply dens. =\tTrue\n",
      "(172,)\n",
      "\n",
      "xstype =  reduced absorption\n",
      "['flux', 'absorption', '(n,2n)', '(n,3n)', '(n,4n)']\n",
      "Tally\n",
      "\tID             =\t97\n",
      "\tName           =\t\n",
      "\tFilters        =\tCellFilter, EnergyFilter\n",
      "\tNuclides       =\ttotal\n",
      "\tScores         =\t[((((absorption - (n,2n)) - (n,3n)) - (n,4n)) / flux)]\n",
      "\tEstimator      =\ttracklength\n",
      "\tMultiply dens. =\tTrue\n",
      "(172,)\n",
      "\n",
      "xstype =  scatter matrix\n",
      "['flux', 'scatter']\n",
      "Tally\n",
      "\tID             =\t98\n",
      "\tName           =\t\n",
      "\tFilters        =\tCellFilter, EnergyFilter, EnergyoutFilter, LegendreFilter\n",
      "\tNuclides       =\ttotal\n",
      "\tScores         =\t[(scatter / flux)]\n",
      "\tEstimator      =\tanalog\n",
      "\tMultiply dens. =\tTrue\n",
      "(172, 172, 4)\n",
      "\n",
      "xstype =  nu-scatter matrix\n",
      "['flux', 'nu-scatter']\n",
      "Tally\n",
      "\tID             =\t91\n",
      "\tName           =\t\n",
      "\tFilters        =\tCellFilter, EnergyFilter, EnergyoutFilter, LegendreFilter\n",
      "\tNuclides       =\ttotal\n",
      "\tScores         =\t[(nu-scatter / flux)]\n",
      "\tEstimator      =\tanalog\n",
      "\tMultiply dens. =\tTrue\n",
      "(172, 172, 4)\n",
      "\n",
      "xstype =  consistent nu-scatter matrix\n",
      "['flux (tracklength)', 'scatter', 'scatter matrix', 'nu-scatter']\n",
      "Tally\n",
      "\tID             =\t106\n",
      "\tName           =\t\n",
      "\tFilters        =\tCellFilter, EnergyFilter, EnergyoutFilter, LegendreFilter\n",
      "\tNuclides       =\ttotal\n",
      "\tScores         =\t[((((scatter * scatter) / scatter) / flux) * (nu-scatter / scatter))]\n",
      "\tEstimator      =\ttracklength\n",
      "\tMultiply dens. =\tTrue\n",
      "(172, 172, 4)\n",
      "\n",
      "xstype =  multiplicity matrix\n",
      "['nu-scatter', 'scatter']\n",
      "Tally\n",
      "\tID             =\t90\n",
      "\tName           =\t\n",
      "\tFilters        =\tCellFilter, EnergyFilter, EnergyoutFilter\n",
      "\tNuclides       =\ttotal\n",
      "\tScores         =\t[(nu-scatter / scatter)]\n",
      "\tEstimator      =\tanalog\n",
      "\tMultiply dens. =\tTrue\n",
      "(172, 172)\n"
     ]
    }
   ],
   "source": [
    "xs = {}\n",
    "for xs_type in mgxs_lib.mgxs_types:\n",
    "    a=mgxs_lib.get_mgxs(key,xs_type)\n",
    "    # print(a.print_xs())\n",
    "    print('\\nxstype = ',a.mgxs_type)\n",
    "    print(a.tally_keys)\n",
    "    print(a.xs_tally)\n",
    "    # print(a.tally_trigger)\n",
    "    xs[xs_type] = a.get_xs(nuclides='all', order_groups='decreasing', xs_type='macro')\n",
    "    print(xs[xs_type].shape)"
   ]
  },
  {
   "cell_type": "code",
   "execution_count": 87,
   "id": "68dae1e9",
   "metadata": {},
   "outputs": [],
   "source": [
    "sp.close()"
   ]
  },
  {
   "cell_type": "code",
   "execution_count": null,
   "id": "cac0d85c",
   "metadata": {},
   "outputs": [],
   "source": []
  }
 ],
 "metadata": {
  "kernelspec": {
   "display_name": "Python 3 (ipykernel)",
   "language": "python",
   "name": "python3"
  },
  "language_info": {
   "codemirror_mode": {
    "name": "ipython",
    "version": 3
   },
   "file_extension": ".py",
   "mimetype": "text/x-python",
   "name": "python",
   "nbconvert_exporter": "python",
   "pygments_lexer": "ipython3",
   "version": "3.11.4"
  }
 },
 "nbformat": 4,
 "nbformat_minor": 5
}
