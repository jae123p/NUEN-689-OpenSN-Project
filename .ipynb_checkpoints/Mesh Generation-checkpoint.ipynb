{
 "cells": [
  {
   "cell_type": "code",
   "execution_count": 132,
   "id": "a87feb6c-1f4c-4393-b0e3-d26f2600c2c4",
   "metadata": {},
   "outputs": [
    {
     "name": "stdout",
     "output_type": "stream",
     "text": [
      "Info    : Clearing all models and views...\n",
      "Info    : Done clearing all models and views\n"
     ]
    },
    {
     "name": "stderr",
     "output_type": "stream",
     "text": [
      "Warning : Gmsh has aleady been initialized\n"
     ]
    }
   ],
   "source": [
    "import gmsh\n",
    "import sys\n",
    "import math\n",
    "\n",
    "# Before using any functions in the Python API, Gmsh must be initialized:\n",
    "gmsh.initialize()\n",
    "\n",
    "gmsh.clear()\n",
    "# Next we add a new model named \"t1\" (if gmsh.model.add() is not called a new\n",
    "# unnamed model will be created on the fly, if necessary):\n",
    "gmsh.model.add(\"HEU-MET-FAST-003=1\")\n"
   ]
  },
  {
   "cell_type": "code",
   "execution_count": 133,
   "id": "c88e571e-0fd2-491f-b81c-49ba1e283ea7",
   "metadata": {},
   "outputs": [],
   "source": [
    "# Define geometry parameters (example: two spheres)\n",
    "inner_radius = 6.7820\n",
    "outer_radius = 11.8620"
   ]
  },
  {
   "cell_type": "code",
   "execution_count": 134,
   "id": "c175857b-c378-4591-9277-f5b4ac45192f",
   "metadata": {},
   "outputs": [],
   "source": [
    "inner_sphere = gmsh.model.occ.addSphere(0, 0, 0, inner_radius)\n",
    "outer_sphere = gmsh.model.occ.addSphere(0, 0, 0, outer_radius)"
   ]
  },
  {
   "cell_type": "code",
   "execution_count": 135,
   "id": "ec59ab62-7e3b-4c2f-a1db-5201aa17a261",
   "metadata": {},
   "outputs": [
    {
     "name": "stdout",
     "output_type": "stream",
     "text": [
      "Volumes: [(3, 1), (3, 2)]                                                                                                 \n"
     ]
    },
    {
     "ename": "RuntimeError",
     "evalue": "Could not identify the shell volume.",
     "output_type": "error",
     "traceback": [
      "\u001b[0;31m---------------------------------------------------------------------------\u001b[0m",
      "\u001b[0;31mRuntimeError\u001b[0m                              Traceback (most recent call last)",
      "Cell \u001b[0;32mIn[135], line 13\u001b[0m\n\u001b[1;32m     11\u001b[0m         \u001b[38;5;28;01mbreak\u001b[39;00m\n\u001b[1;32m     12\u001b[0m     \u001b[38;5;28;01mif\u001b[39;00m shell_volume \u001b[38;5;129;01mis\u001b[39;00m \u001b[38;5;28;01mNone\u001b[39;00m:\n\u001b[0;32m---> 13\u001b[0m         \u001b[38;5;28;01mraise\u001b[39;00m \u001b[38;5;167;01mRuntimeError\u001b[39;00m(\u001b[38;5;124m\"\u001b[39m\u001b[38;5;124mCould not identify the shell volume.\u001b[39m\u001b[38;5;124m\"\u001b[39m)\n\u001b[1;32m     14\u001b[0m \u001b[38;5;66;03m# Define physical groups for the inner sphere and shell\u001b[39;00m\n",
      "\u001b[0;31mRuntimeError\u001b[0m: Could not identify the shell volume."
     ]
    }
   ],
   "source": [
    "cutResult = gmsh.model.occ.cut([(3, outer_sphere)], [(3, inner_sphere)], removeTool=False)\n",
    "# Synchronize the CAD kernel with the Gmsh model\n",
    "gmsh.model.occ.synchronize()\n",
    "# Identify the volumes: we expect two volumes (the inner sphere and the shell)\n",
    "volEntities = gmsh.model.getEntities(3)\n",
    "print(\"Volumes:\", volEntities)\n",
    "shell_volume = None\n",
    "for (dim, tag) in volEntities:\n",
    "    if tag != inner_sphere:\n",
    "        shell_volume = tag\n",
    "        break\n",
    "    if shell_volume is None:\n",
    "        raise RuntimeError(\"Could not identify the shell volume.\")\n",
    "# Define physical groups for the inner sphere and shell"
   ]
  },
  {
   "cell_type": "code",
   "execution_count": 136,
   "id": "867bc7b4-0e39-4049-a957-cd1c11f274f5",
   "metadata": {},
   "outputs": [
    {
     "ename": "TypeError",
     "evalue": "int() argument must be a string, a bytes-like object or a real number, not 'NoneType'",
     "output_type": "error",
     "traceback": [
      "\u001b[0;31m---------------------------------------------------------------------------\u001b[0m",
      "\u001b[0;31mTypeError\u001b[0m                                 Traceback (most recent call last)",
      "\u001b[0;32m/tmp/ipykernel_497/1859479531.py\u001b[0m in \u001b[0;36m?\u001b[0;34m()\u001b[0m\n\u001b[1;32m      1\u001b[0m \u001b[0;31m# Define physical groups for the inner sphere and shell\u001b[0m\u001b[0;34m\u001b[0m\u001b[0;34m\u001b[0m\u001b[0m\n\u001b[1;32m      2\u001b[0m \u001b[0mgmsh\u001b[0m\u001b[0;34m.\u001b[0m\u001b[0mmodel\u001b[0m\u001b[0;34m.\u001b[0m\u001b[0maddPhysicalGroup\u001b[0m\u001b[0;34m(\u001b[0m\u001b[0;36m3\u001b[0m\u001b[0;34m,\u001b[0m \u001b[0;34m[\u001b[0m\u001b[0minner_sphere\u001b[0m\u001b[0;34m]\u001b[0m\u001b[0;34m,\u001b[0m \u001b[0mtag\u001b[0m\u001b[0;34m=\u001b[0m\u001b[0;36m1\u001b[0m\u001b[0;34m)\u001b[0m\u001b[0;34m\u001b[0m\u001b[0;34m\u001b[0m\u001b[0m\n\u001b[1;32m      3\u001b[0m \u001b[0mgmsh\u001b[0m\u001b[0;34m.\u001b[0m\u001b[0mmodel\u001b[0m\u001b[0;34m.\u001b[0m\u001b[0msetPhysicalName\u001b[0m\u001b[0;34m(\u001b[0m\u001b[0;36m3\u001b[0m\u001b[0;34m,\u001b[0m \u001b[0;36m1\u001b[0m\u001b[0;34m,\u001b[0m \u001b[0;34m\"Inner\"\u001b[0m\u001b[0;34m)\u001b[0m\u001b[0;34m\u001b[0m\u001b[0;34m\u001b[0m\u001b[0m\n\u001b[0;32m----> 4\u001b[0;31m \u001b[0mgmsh\u001b[0m\u001b[0;34m.\u001b[0m\u001b[0mmodel\u001b[0m\u001b[0;34m.\u001b[0m\u001b[0maddPhysicalGroup\u001b[0m\u001b[0;34m(\u001b[0m\u001b[0;36m3\u001b[0m\u001b[0;34m,\u001b[0m \u001b[0;34m[\u001b[0m\u001b[0mshell_volume\u001b[0m\u001b[0;34m]\u001b[0m\u001b[0;34m,\u001b[0m \u001b[0mtag\u001b[0m\u001b[0;34m=\u001b[0m\u001b[0;36m2\u001b[0m\u001b[0;34m)\u001b[0m\u001b[0;34m\u001b[0m\u001b[0;34m\u001b[0m\u001b[0m\n\u001b[0m\u001b[1;32m      5\u001b[0m \u001b[0mgmsh\u001b[0m\u001b[0;34m.\u001b[0m\u001b[0mmodel\u001b[0m\u001b[0;34m.\u001b[0m\u001b[0msetPhysicalName\u001b[0m\u001b[0;34m(\u001b[0m\u001b[0;36m3\u001b[0m\u001b[0;34m,\u001b[0m \u001b[0;36m2\u001b[0m\u001b[0;34m,\u001b[0m \u001b[0;34m\"Outer\"\u001b[0m\u001b[0;34m)\u001b[0m\u001b[0;34m\u001b[0m\u001b[0;34m\u001b[0m\u001b[0m\n\u001b[1;32m      6\u001b[0m \u001b[0;31m# Create a MathEval field to control the mesh size based on z.\u001b[0m\u001b[0;34m\u001b[0m\u001b[0;34m\u001b[0m\u001b[0m\n\u001b[1;32m      7\u001b[0m \u001b[0mfieldTag\u001b[0m \u001b[0;34m=\u001b[0m \u001b[0mgmsh\u001b[0m\u001b[0;34m.\u001b[0m\u001b[0mmodel\u001b[0m\u001b[0;34m.\u001b[0m\u001b[0mmesh\u001b[0m\u001b[0;34m.\u001b[0m\u001b[0mfield\u001b[0m\u001b[0;34m.\u001b[0m\u001b[0madd\u001b[0m\u001b[0;34m(\u001b[0m\u001b[0;34m\"MathEval\"\u001b[0m\u001b[0;34m)\u001b[0m\u001b[0;34m\u001b[0m\u001b[0;34m\u001b[0m\u001b[0m\n",
      "\u001b[0;32m~/miniconda3/envs/openmc-env/lib/python3.12/site-packages/gmsh.py\u001b[0m in \u001b[0;36m?\u001b[0;34m(dim, tags, tag, name)\u001b[0m\n\u001b[1;32m    934\u001b[0m         - `tags': vector of integers\n\u001b[1;32m    935\u001b[0m         - `tag': integer\n\u001b[1;32m    936\u001b[0m         - `name': string\n\u001b[1;32m    937\u001b[0m         \"\"\"\n\u001b[0;32m--> 938\u001b[0;31m         \u001b[0mapi_tags_\u001b[0m\u001b[0;34m,\u001b[0m \u001b[0mapi_tags_n_\u001b[0m \u001b[0;34m=\u001b[0m \u001b[0m_ivectorint\u001b[0m\u001b[0;34m(\u001b[0m\u001b[0mtags\u001b[0m\u001b[0;34m)\u001b[0m\u001b[0;34m\u001b[0m\u001b[0;34m\u001b[0m\u001b[0m\n\u001b[0m\u001b[1;32m    939\u001b[0m         \u001b[0mierr\u001b[0m \u001b[0;34m=\u001b[0m \u001b[0mc_int\u001b[0m\u001b[0;34m(\u001b[0m\u001b[0;34m)\u001b[0m\u001b[0;34m\u001b[0m\u001b[0;34m\u001b[0m\u001b[0m\n\u001b[1;32m    940\u001b[0m         api_result_ = lib.gmshModelAddPhysicalGroup(\n\u001b[1;32m    941\u001b[0m             \u001b[0mc_int\u001b[0m\u001b[0;34m(\u001b[0m\u001b[0mdim\u001b[0m\u001b[0;34m)\u001b[0m\u001b[0;34m,\u001b[0m\u001b[0;34m\u001b[0m\u001b[0;34m\u001b[0m\u001b[0m\n",
      "\u001b[0;32m~/miniconda3/envs/openmc-env/lib/python3.12/site-packages/gmsh.py\u001b[0m in \u001b[0;36m?\u001b[0;34m(o)\u001b[0m\n\u001b[1;32m    182\u001b[0m \u001b[0;32mdef\u001b[0m \u001b[0m_ivectorint\u001b[0m\u001b[0;34m(\u001b[0m\u001b[0mo\u001b[0m\u001b[0;34m)\u001b[0m\u001b[0;34m:\u001b[0m\u001b[0;34m\u001b[0m\u001b[0;34m\u001b[0m\u001b[0m\n\u001b[1;32m    183\u001b[0m     \u001b[0;32mif\u001b[0m \u001b[0muse_numpy\u001b[0m\u001b[0;34m:\u001b[0m\u001b[0;34m\u001b[0m\u001b[0;34m\u001b[0m\u001b[0m\n\u001b[0;32m--> 184\u001b[0;31m         \u001b[0marray\u001b[0m \u001b[0;34m=\u001b[0m \u001b[0mnumpy\u001b[0m\u001b[0;34m.\u001b[0m\u001b[0mascontiguousarray\u001b[0m\u001b[0;34m(\u001b[0m\u001b[0mo\u001b[0m\u001b[0;34m,\u001b[0m \u001b[0mnumpy\u001b[0m\u001b[0;34m.\u001b[0m\u001b[0mint32\u001b[0m\u001b[0;34m)\u001b[0m\u001b[0;34m\u001b[0m\u001b[0;34m\u001b[0m\u001b[0m\n\u001b[0m\u001b[1;32m    185\u001b[0m         \u001b[0;32mif\u001b[0m\u001b[0;34m(\u001b[0m\u001b[0mlen\u001b[0m\u001b[0;34m(\u001b[0m\u001b[0mo\u001b[0m\u001b[0;34m)\u001b[0m \u001b[0;32mand\u001b[0m \u001b[0marray\u001b[0m\u001b[0;34m.\u001b[0m\u001b[0mndim\u001b[0m \u001b[0;34m!=\u001b[0m \u001b[0;36m1\u001b[0m\u001b[0;34m)\u001b[0m\u001b[0;34m:\u001b[0m\u001b[0;34m\u001b[0m\u001b[0;34m\u001b[0m\u001b[0m\n\u001b[1;32m    186\u001b[0m             \u001b[0;32mraise\u001b[0m \u001b[0mException\u001b[0m\u001b[0;34m(\u001b[0m\u001b[0;34m\"Invalid data for input vector of integers\"\u001b[0m\u001b[0;34m)\u001b[0m\u001b[0;34m\u001b[0m\u001b[0;34m\u001b[0m\u001b[0m\n\u001b[1;32m    187\u001b[0m         \u001b[0mct\u001b[0m \u001b[0;34m=\u001b[0m \u001b[0marray\u001b[0m\u001b[0;34m.\u001b[0m\u001b[0mctypes\u001b[0m\u001b[0;34m\u001b[0m\u001b[0;34m\u001b[0m\u001b[0m\n",
      "\u001b[0;31mTypeError\u001b[0m: int() argument must be a string, a bytes-like object or a real number, not 'NoneType'"
     ]
    }
   ],
   "source": [
    "# Define physical groups for the inner sphere and shell\n",
    "gmsh.model.addPhysicalGroup(3, [inner_sphere], tag=1)\n",
    "gmsh.model.setPhysicalName(3, 1, \"Inner\")\n",
    "gmsh.model.addPhysicalGroup(3, [shell_volume], tag=2)\n",
    "gmsh.model.setPhysicalName(3, 2, \"Outer\")\n",
    "# Create a MathEval field to control the mesh size based on z.\n",
    "fieldTag = gmsh.model.mesh.field.add(\"MathEval\")\n",
    "gmsh.model.mesh.field.setString(fieldTag, \"F\", \"1.5\")\n",
    "# Use this field as the background mesh field.\n",
    "gmsh.model.mesh.field.setAsBackgroundMesh(fieldTag)"
   ]
  },
  {
   "cell_type": "code",
   "execution_count": 124,
   "id": "323c2c2b-2dd9-48e6-93bc-96a0b9f651cb",
   "metadata": {},
   "outputs": [
    {
     "name": "stdout",
     "output_type": "stream",
     "text": [
      "Info    : Meshing 1D...\n",
      "Info    : [ 10%] Meshing curve 2 (Circle)\n",
      "Info    : [ 40%] Meshing curve 5 (Circle)\n",
      "Info    : [ 60%] Meshing curve 8 (Circle)\n",
      "Info    : [ 90%] Meshing curve 11 (Circle)\n",
      "Info    : Done meshing 1D (Wall 0.00041202s, CPU 0.000647s)\n",
      "Info    : Meshing 2D...\n",
      "Info    : [  0%] Meshing surface 1 (Sphere, Frontal-Delaunay)\n",
      "Info    : [ 30%] Meshing surface 2 (Sphere, Frontal-Delaunay)\n",
      "Info    : [ 60%] Meshing surface 3 (Sphere, Frontal-Delaunay)\n",
      "Info    : [ 80%] Meshing surface 4 (Sphere, Frontal-Delaunay)\n",
      "Info    : Done meshing 2D (Wall 0.0584572s, CPU 0.060564s)\n",
      "Info    : Meshing 3D...\n",
      "Info    : 3D Meshing 4 volumes with 2 connected components\n",
      "Info    : Tetrahedrizing 761 nodes...\n",
      "Info    : Done tetrahedrizing 769 nodes (Wall 0.00505624s, CPU 0.004445s)\n",
      "Info    : Reconstructing mesh...\n",
      "Info    :  - Creating surface mesh\n",
      "Info    :  - Identifying boundary edges\n",
      "Info    :  - Recovering boundary\n",
      "Info    : Done reconstructing mesh (Wall 0.0110493s, CPU 0.010731s)\n",
      "Info    : Found volume 1\n",
      "Info    : Found volume 2\n",
      "Info    : It. 0 - 0 nodes created - worst tet radius 3.75287 (nodes removed 0 0)\n",
      "Info    : 3D refinement terminated (1807 nodes total):\n",
      "Info    :  - 0 Delaunay cavities modified for star shapeness\n",
      "Info    :  - 1 nodes could not be inserted\n",
      "Info    :  - 4613 tetrahedra created in 0.0116833 sec. (394837 tets/s)\n",
      "Info    : 0 node relocations\n",
      "Info    : Tetrahedrizing 759 nodes...\n",
      "Info    : Done tetrahedrizing 767 nodes (Wall 0.00498277s, CPU 0.00503s)\n",
      "Info    : Reconstructing mesh...\n",
      "Info    :  - Creating surface mesh\n",
      "Info    :  - Identifying boundary edges\n",
      "Info    :  - Recovering boundary\n",
      "Info    : Done reconstructing mesh (Wall 0.0104849s, CPU 0.010596s)\n",
      "Info    : Found volume 3\n",
      "Info    : Found volume 4\n",
      "Info    : It. 0 - 0 nodes created - worst tet radius 3.92114 (nodes removed 0 0)\n",
      "Info    : 3D refinement terminated (1804 nodes total):\n",
      "Info    :  - 0 Delaunay cavities modified for star shapeness\n",
      "Info    :  - 1 nodes could not be inserted\n",
      "Info    :  - 4606 tetrahedra created in 0.0116572 sec. (395121 tets/s)\n",
      "Info    : 0 node relocations\n",
      "Info    : Done meshing 3D (Wall 0.0828752s, CPU 0.083289s)\n",
      "Info    : Optimizing mesh...\n",
      "Info    : Optimizing volume 1\n",
      "Info    : Optimization starts (volume = 1268.58) with worst = 0.0759862 / average = 0.763583:\n",
      "Info    : 0.00 < quality < 0.10 :         1 elements\n",
      "Info    : 0.10 < quality < 0.20 :         3 elements\n",
      "Info    : 0.20 < quality < 0.30 :         8 elements\n",
      "Info    : 0.30 < quality < 0.40 :        13 elements\n",
      "Info    : 0.40 < quality < 0.50 :        21 elements\n",
      "Info    : 0.50 < quality < 0.60 :        50 elements\n",
      "Info    : 0.60 < quality < 0.70 :       152 elements\n",
      "Info    : 0.70 < quality < 0.80 :       267 elements\n",
      "Info    : 0.80 < quality < 0.90 :       325 elements\n",
      "Info    : 0.90 < quality < 1.00 :       122 elements\n",
      "Info    : 12 edge swaps, 0 node relocations (volume = 1268.58): worst = 0.308188 / average = 0.770601 (Wall 0.000181967s, CPU 0.00023s)\n",
      "Info    : No ill-shaped tets in the mesh :-)\n",
      "Info    : 0.00 < quality < 0.10 :         0 elements\n",
      "Info    : 0.10 < quality < 0.20 :         0 elements\n",
      "Info    : 0.20 < quality < 0.30 :         0 elements\n",
      "Info    : 0.30 < quality < 0.40 :        13 elements\n",
      "Info    : 0.40 < quality < 0.50 :        20 elements\n",
      "Info    : 0.50 < quality < 0.60 :        48 elements\n",
      "Info    : 0.60 < quality < 0.70 :       157 elements\n",
      "Info    : 0.70 < quality < 0.80 :       267 elements\n",
      "Info    : 0.80 < quality < 0.90 :       325 elements\n",
      "Info    : 0.90 < quality < 1.00 :       122 elements\n",
      "Info    : Optimizing volume 2\n",
      "Info    : Optimization starts (volume = 5653.13) with worst = 0.0104381 / average = 0.753191:\n",
      "Info    : 0.00 < quality < 0.10 :         7 elements\n",
      "Info    : 0.10 < quality < 0.20 :        28 elements\n",
      "Info    : 0.20 < quality < 0.30 :        51 elements\n",
      "Info    : 0.30 < quality < 0.40 :        68 elements\n",
      "Info    : 0.40 < quality < 0.50 :        98 elements\n",
      "Info    : 0.50 < quality < 0.60 :       160 elements\n",
      "Info    : 0.60 < quality < 0.70 :       538 elements\n",
      "Info    : 0.70 < quality < 0.80 :      1133 elements\n",
      "Info    : 0.80 < quality < 0.90 :      1185 elements\n",
      "Info    : 0.90 < quality < 1.00 :       383 elements\n",
      "Info    : 86 edge swaps, 5 node relocations (volume = 5653.13): worst = 0.239098 / average = 0.76779 (Wall 0.000908185s, CPU 0.000978s)\n",
      "Info    : 89 edge swaps, 5 node relocations (volume = 5653.13): worst = 0.282357 / average = 0.768361 (Wall 0.00113359s, CPU 0.001249s)\n",
      "Info    : No ill-shaped tets in the mesh :-)\n",
      "Info    : 0.00 < quality < 0.10 :         0 elements\n",
      "Info    : 0.10 < quality < 0.20 :         0 elements\n",
      "Info    : 0.20 < quality < 0.30 :         1 elements\n",
      "Info    : 0.30 < quality < 0.40 :        70 elements\n",
      "Info    : 0.40 < quality < 0.50 :        91 elements\n",
      "Info    : 0.50 < quality < 0.60 :       141 elements\n",
      "Info    : 0.60 < quality < 0.70 :       523 elements\n",
      "Info    : 0.70 < quality < 0.80 :      1163 elements\n",
      "Info    : 0.80 < quality < 0.90 :      1197 elements\n",
      "Info    : 0.90 < quality < 1.00 :       383 elements\n",
      "Info    : Optimizing volume 3\n",
      "Info    : Optimization starts (volume = 1268.52) with worst = 0.0362664 / average = 0.743941:\n",
      "Info    : 0.00 < quality < 0.10 :         2 elements\n",
      "Info    : 0.10 < quality < 0.20 :         8 elements\n",
      "Info    : 0.20 < quality < 0.30 :        13 elements\n",
      "Info    : 0.30 < quality < 0.40 :        20 elements\n",
      "Info    : 0.40 < quality < 0.50 :        32 elements\n",
      "Info    : 0.50 < quality < 0.60 :        56 elements\n",
      "Info    : 0.60 < quality < 0.70 :       144 elements\n",
      "Info    : 0.70 < quality < 0.80 :       260 elements\n",
      "Info    : 0.80 < quality < 0.90 :       319 elements\n",
      "Info    : 0.90 < quality < 1.00 :        86 elements\n",
      "Info    : 23 edge swaps, 0 node relocations (volume = 1268.52): worst = 0.301713 / average = 0.759842 (Wall 0.000263821s, CPU 0.000266s)\n",
      "Info    : No ill-shaped tets in the mesh :-)\n",
      "Info    : 0.00 < quality < 0.10 :         0 elements\n",
      "Info    : 0.10 < quality < 0.20 :         0 elements\n",
      "Info    : 0.20 < quality < 0.30 :         0 elements\n",
      "Info    : 0.30 < quality < 0.40 :        19 elements\n",
      "Info    : 0.40 < quality < 0.50 :        29 elements\n",
      "Info    : 0.50 < quality < 0.60 :        53 elements\n",
      "Info    : 0.60 < quality < 0.70 :       146 elements\n",
      "Info    : 0.70 < quality < 0.80 :       258 elements\n",
      "Info    : 0.80 < quality < 0.90 :       326 elements\n",
      "Info    : 0.90 < quality < 1.00 :        87 elements\n",
      "Info    : Optimizing volume 4\n",
      "Info    : Optimization starts (volume = 5653.42) with worst = 0.0131361 / average = 0.754622:\n",
      "Info    : 0.00 < quality < 0.10 :        10 elements\n",
      "Info    : 0.10 < quality < 0.20 :        37 elements\n",
      "Info    : 0.20 < quality < 0.30 :        47 elements\n",
      "Info    : 0.30 < quality < 0.40 :        54 elements\n",
      "Info    : 0.40 < quality < 0.50 :        89 elements\n",
      "Info    : 0.50 < quality < 0.60 :       165 elements\n",
      "Info    : 0.60 < quality < 0.70 :       533 elements\n",
      "Info    : 0.70 < quality < 0.80 :      1136 elements\n",
      "Info    : 0.80 < quality < 0.90 :      1160 elements\n",
      "Info    : 0.90 < quality < 1.00 :       435 elements\n",
      "Info    : 92 edge swaps, 6 node relocations (volume = 5653.42): worst = 0.268427 / average = 0.769838 (Wall 0.000944063s, CPU 0s)\n",
      "Info    : 93 edge swaps, 7 node relocations (volume = 5653.42): worst = 0.268427 / average = 0.770018 (Wall 0.00116643s, CPU 0s)\n",
      "Info    : No ill-shaped tets in the mesh :-)\n",
      "Info    : 0.00 < quality < 0.10 :         0 elements\n",
      "Info    : 0.10 < quality < 0.20 :         0 elements\n",
      "Info    : 0.20 < quality < 0.30 :         2 elements\n",
      "Info    : 0.30 < quality < 0.40 :        51 elements\n",
      "Info    : 0.40 < quality < 0.50 :        91 elements\n",
      "Info    : 0.50 < quality < 0.60 :       148 elements\n",
      "Info    : 0.60 < quality < 0.70 :       525 elements\n",
      "Info    : 0.70 < quality < 0.80 :      1167 elements\n",
      "Info    : 0.80 < quality < 0.90 :      1179 elements\n",
      "Info    : 0.90 < quality < 1.00 :       421 elements\n",
      "Info    : Done optimizing mesh (Wall 0.00792734s, CPU 0.005174s)\n",
      "Info    : 2091 nodes 12117 elements\n",
      "Info    : Writing 'two_spheres.vtk'...\n",
      "Info    : Done writing 'two_spheres.vtk'\n",
      "Info    : Writing 'HEU-MET-Fast-003-1/two_sphere.msh'...\n",
      "Info    : Done writing 'HEU-MET-Fast-003-1/two_sphere.msh'\n",
      "-------------------------------------------------------\n",
      "Version       : 4.13.1\n",
      "License       : GNU General Public License\n",
      "Build OS      : Linux64-sdk\n",
      "Build date    : 20240524\n",
      "Build host    : gmsh.info\n",
      "Build options : 64Bit ALGLIB[contrib] ANN[contrib] Bamg Blas[petsc] Blossom Cgns DIntegration Dlopen DomHex Eigen[contrib] Fltk Gmm[contrib] Hxt Jpeg Kbipack Lapack[petsc] LinuxJoystick MathEx[contrib] Med Mesh Metis[contrib] Mmg Mpeg Netgen Nii2mesh ONELAB ONELABMetamodel OpenCASCADE OpenCASCADE-CAF OpenGL OpenMP OptHom PETSc Parser Plugins Png Post QuadMeshingTools QuadTri Solver TetGen/BR TinyXML2[contrib] Untangle Voro++[contrib] WinslowUntangler Zlib\n",
      "FLTK version  : 1.4.0\n",
      "PETSc version : 3.14.4 (real arithmtic)\n",
      "OCC version   : 7.7.2\n",
      "MED version   : 4.1.0\n",
      "Packaged by   : geuzaine\n",
      "Web site      : https://gmsh.info\n",
      "Issue tracker : https://gitlab.onelab.info/gmsh/gmsh/issues\n",
      "-------------------------------------------------------\n"
     ]
    }
   ],
   "source": [
    "# Generate the 3D mesh\n",
    "gmsh.model.mesh.generate(3)\n",
    "# Save mesh in VTK format\n",
    "gmsh.write(\"two_spheres.vtk\")\n",
    "gmsh.write(\"HEU-MET-Fast-003-1/two_sphere.msh\")\n",
    "if \"-nopopup\" not in sys.argv:\n",
    "    gmsh.fltk.run()\n",
    "    gmsh.finalize()"
   ]
  },
  {
   "cell_type": "code",
   "execution_count": null,
   "id": "50a79d30-3a2f-42ce-bf6c-821813205443",
   "metadata": {},
   "outputs": [],
   "source": []
  }
 ],
 "metadata": {
  "kernelspec": {
   "display_name": "Python 3 (ipykernel)",
   "language": "python",
   "name": "python3"
  },
  "language_info": {
   "codemirror_mode": {
    "name": "ipython",
    "version": 3
   },
   "file_extension": ".py",
   "mimetype": "text/x-python",
   "name": "python",
   "nbconvert_exporter": "python",
   "pygments_lexer": "ipython3",
   "version": "3.12.8"
  }
 },
 "nbformat": 4,
 "nbformat_minor": 5
}
