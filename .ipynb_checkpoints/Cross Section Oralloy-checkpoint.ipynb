{
 "cells": [
  {
   "cell_type": "code",
   "execution_count": 35,
   "id": "5e3364bd-0407-4d3e-9ada-b2771e1bac20",
   "metadata": {},
   "outputs": [],
   "source": [
    "import openmc\n",
    "import openmc.mgxs\n",
    "import math\n",
    "import matplotlib.pyplot as plt\n",
    "import numpy as np\n",
    "import pandas\n",
    "import h5py\n",
    "%matplotlib inline"
   ]
  },
  {
   "cell_type": "code",
   "execution_count": 36,
   "id": "1f1ac443-2d9c-466b-9d92-d17380f6b3d3",
   "metadata": {},
   "outputs": [],
   "source": [
    "import os"
   ]
  },
  {
   "cell_type": "code",
   "execution_count": 37,
   "id": "8811cd9f-e3c1-49bf-8e63-f4716ac5b2cf",
   "metadata": {},
   "outputs": [
    {
     "name": "stdout",
     "output_type": "stream",
     "text": [
      "env: OPENMC_CROSS_SECTIONS=/home/jae123p/endfb80/endfb-viii.0-hdf5/cross_sections.xml\n"
     ]
    }
   ],
   "source": [
    "os.environ['PATH'] += r':/home/jae123p/miniconda3/envs/openmc-env/bin'\n",
    "\n",
    "%env OPENMC_CROSS_SECTIONS=/home/jae123p/endfb80/endfb-viii.0-hdf5/cross_sections.xml"
   ]
  },
  {
   "cell_type": "code",
   "execution_count": 38,
   "id": "8ef19153-54a5-48f8-8aa6-694910c26fc2",
   "metadata": {},
   "outputs": [],
   "source": [
    "model = openmc.Model()"
   ]
  },
  {
   "cell_type": "code",
   "execution_count": 39,
   "id": "39d0a079-51b3-4b98-a0a4-5481c1062923",
   "metadata": {},
   "outputs": [],
   "source": [
    "oralloy = openmc.Material(name=\"Oralloy\")\n",
    "oralloy.add_nuclide('U234', 4.9210e-04)\n",
    "oralloy.add_nuclide('U235', 4.4917e-02)\n",
    "oralloy.add_nuclide('U238', 2.5993e-03)\n",
    "\n",
    "materials = openmc.Materials([oralloy])\n",
    "materials.export_to_xml(\"HEU-MET-Fast-003-1/oralloy.xml\")"
   ]
  },
  {
   "cell_type": "code",
   "execution_count": 40,
   "id": "4397b1f9-6d40-4916-9004-c4a3453c7caa",
   "metadata": {},
   "outputs": [],
   "source": [
    "model.materials = openmc.Materials([oralloy])"
   ]
  },
  {
   "cell_type": "code",
   "execution_count": 41,
   "id": "f8c826e4-44cd-4624-ac50-396e78de8c8a",
   "metadata": {},
   "outputs": [],
   "source": [
    "box = openmc.model.RectangularPrism(width=10.0, height = 10, boundary_type='reflective')\n",
    "mat_cell = openmc.Cell(name='OralloyCell', fill = oralloy, region = -box)"
   ]
  },
  {
   "cell_type": "code",
   "execution_count": 42,
   "id": "8e44d92e-6bf4-44f3-8a62-d3ec5d4b5d12",
   "metadata": {},
   "outputs": [],
   "source": [
    "root_universe = openmc.Universe()\n",
    "root_universe.add_cell(mat_cell)\n",
    "model.geometry = openmc.Geometry(root_universe)"
   ]
  },
  {
   "cell_type": "code",
   "execution_count": 43,
   "id": "bf1dc6a4-e739-4805-a53d-640f4e069767",
   "metadata": {},
   "outputs": [],
   "source": [
    "bounds = [-10, -10, -10, 10, 10, 10]\n",
    "uniform_dist = openmc.stats.Box(bounds[:3], bounds[3:])\n",
    "energy_dist = openmc.stats.Uniform(a=0.0e6,b=20.0e6)\n",
    "source = openmc.IndependentSource(space=uniform_dist, energy=energy_dist)"
   ]
  },
  {
   "cell_type": "code",
   "execution_count": 44,
   "id": "a639e048-f54a-4091-9cf2-d0a44b0fd903",
   "metadata": {},
   "outputs": [],
   "source": [
    "batches = 500\n",
    "inactive = 20\n",
    "particles = 10000\n",
    "\n",
    "# Instantiate a Settings object\n",
    "settings = openmc.Settings()\n",
    "\n",
    "settings.source = source\n",
    "settings.batches = batches\n",
    "settings.inactive = inactive\n",
    "settings.particles = particles\n",
    "settings.run_mode = 'fixed source'\n",
    "model.settings = settings"
   ]
  },
  {
   "cell_type": "code",
   "execution_count": 45,
   "id": "9bbd28f8-b6a7-49a0-8970-346b7a69dcb2",
   "metadata": {},
   "outputs": [],
   "source": [
    "groups = openmc.mgxs.EnergyGroups(group_edges='VITAMIN-J-42')"
   ]
  },
  {
   "cell_type": "code",
   "execution_count": 46,
   "id": "faa88c7b-d93d-4009-abe3-4a632f9aba26",
   "metadata": {},
   "outputs": [
    {
     "name": "stderr",
     "output_type": "stream",
     "text": [
      "/home/jae123p/miniconda3/envs/openmc-env/lib/python3.12/site-packages/openmc/mgxs/library.py:401: RuntimeWarning: The P0 correction will be ignored since the scattering order 3 is greater than zero\n",
      "  warn(msg, RuntimeWarning)\n"
     ]
    }
   ],
   "source": [
    "# Initialize MGXS Library\n",
    "mgxs_lib = openmc.mgxs.Library(model.geometry)\n",
    "\n",
    "# Add the chosen group structure\n",
    "mgxs_lib.energy_groups = groups\n",
    "\n",
    "# Scatttering Format and Legendre Order\n",
    "mgxs_lib.scatter_format = \"legendre\"\n",
    "mgxs_lib.legendre_order = 3\n",
    "\n",
    "# Specify multi-group cross-section types to compute\n",
    "mgxs_lib.mgxs_types = ['total', 'fission', 'scatter']\n",
    "\n",
    "# set uncertainty goal\n",
    "mgxs_lib.tally_trigger = openmc.Trigger('std_dev', 1e-4)\n",
    "\n",
    "# Compute cross sections on a nuclide-by-nuclide basis\n",
    "mgxs_lib.by_nuclide = False\n",
    "\n",
    "# Specify a \"cell\" domain type for the cross section tally filters\n",
    "mgxs_lib.domain_type = 'cell'\n",
    "\n",
    "# Specify the cell domains over which to compute multi-group cross sections\n",
    "mgxs_lib.domains = model.geometry.get_all_material_cells().values()\n",
    "\n",
    "# Construct all tallies needed for the multi-group cross section library\n",
    "mgxs_lib.build_library()\n",
    "\n",
    "tallies = openmc.Tallies()\n",
    "mgxs_lib.add_to_tallies_file(tallies, merge=True)\n",
    "model.tallies = tallies"
   ]
  },
  {
   "cell_type": "code",
   "execution_count": 47,
   "id": "216184a4-4638-437f-9dcb-c71cbf2834b9",
   "metadata": {},
   "outputs": [
    {
     "name": "stdout",
     "output_type": "stream",
     "text": [
      "[LAPTOP-H8MU6HJU:02638] shmem: mmap: an error occurred while determining whether or not /tmp/ompi.LAPTOP-H8MU6HJU.1000/jf.0/1360527360/shared_mem_cuda_pool.LAPTOP-H8MU6HJU could be created.\n",
      "[LAPTOP-H8MU6HJU:02638] create_and_attach: unable to create shared memory BTL coordinating structure :: size 134217728 \n",
      "                                %%%%%%%%%%%%%%%\n",
      "                           %%%%%%%%%%%%%%%%%%%%%%%%\n",
      "                        %%%%%%%%%%%%%%%%%%%%%%%%%%%%%%\n",
      "                      %%%%%%%%%%%%%%%%%%%%%%%%%%%%%%%%%%\n",
      "                    %%%%%%%%%%%%%%%%%%%%%%%%%%%%%%%%%%%%%%\n",
      "                   %%%%%%%%%%%%%%%%%%%%%%%%%%%%%%%%%%%%%%%%\n",
      "                                    %%%%%%%%%%%%%%%%%%%%%%%%\n",
      "                                     %%%%%%%%%%%%%%%%%%%%%%%%\n",
      "                 ###############      %%%%%%%%%%%%%%%%%%%%%%%%\n",
      "                ##################     %%%%%%%%%%%%%%%%%%%%%%%\n",
      "                ###################     %%%%%%%%%%%%%%%%%%%%%%%\n",
      "                ####################     %%%%%%%%%%%%%%%%%%%%%%\n",
      "                #####################     %%%%%%%%%%%%%%%%%%%%%\n",
      "                ######################     %%%%%%%%%%%%%%%%%%%%\n",
      "                #######################     %%%%%%%%%%%%%%%%%%\n",
      "                 #######################     %%%%%%%%%%%%%%%%%\n",
      "                 ######################     %%%%%%%%%%%%%%%%%\n",
      "                  ####################     %%%%%%%%%%%%%%%%%\n",
      "                    #################     %%%%%%%%%%%%%%%%%\n",
      "                     ###############     %%%%%%%%%%%%%%%%\n",
      "                       ############     %%%%%%%%%%%%%%%\n",
      "                          ########     %%%%%%%%%%%%%%\n",
      "                                      %%%%%%%%%%%\n",
      "\n",
      "                 | The OpenMC Monte Carlo Code\n",
      "       Copyright | 2011-2024 MIT, UChicago Argonne LLC, and contributors\n",
      "         License | https://docs.openmc.org/en/latest/license.html\n",
      "         Version | 0.15.0\n",
      "        Git SHA1 | 84fb85977f46e162fea8f5a20ea653a3ec62ac24\n",
      "       Date/Time | 2025-05-05 04:09:17\n",
      "   MPI Processes | 1\n",
      "  OpenMP Threads | 24\n",
      "\n",
      " Reading model XML file 'model.xml' ...\n",
      " WARNING: Other XML file input(s) are present. These files may be ignored in\n",
      "          favor of the model.xml file.\n",
      " Reading cross sections XML file...\n",
      " Reading U234 from /home/jae123p/endfb80/endfb-viii.0-hdf5/neutron/U234.h5\n",
      " Reading U235 from /home/jae123p/endfb80/endfb-viii.0-hdf5/neutron/U235.h5\n",
      " Reading U238 from /home/jae123p/endfb80/endfb-viii.0-hdf5/neutron/U238.h5\n",
      " Minimum neutron data temperature: 294 K\n",
      " Maximum neutron data temperature: 294 K\n",
      " Preparing distributed cell instances...\n",
      " Writing summary.h5 file...\n",
      "HDF5-DIAG: Error detected in HDF5 (1.14.3) MPI-process 0:\n",
      "  #000: H5F.c line 660 in H5Fcreate(): unable to synchronously create file\n",
      "    major: File accessibility\n",
      "    minor: Unable to create file\n",
      "  #001: H5F.c line 614 in H5F__create_api_common(): unable to create file\n",
      "    major: File accessibility\n",
      "    minor: Unable to open file\n",
      "  #002: H5VLcallback.c line 3605 in H5VL_file_create(): file create failed\n",
      "    major: Virtual Object Layer\n",
      "    minor: Unable to create file\n",
      "  #003: H5VLcallback.c line 3571 in H5VL__file_create(): file create failed\n",
      "    major: Virtual Object Layer\n",
      "    minor: Unable to create file\n",
      "  #004: H5VLnative_file.c line 94 in H5VL__native_file_create(): unable to create file\n",
      "    major: File accessibility\n",
      "    minor: Unable to open file\n",
      "  #005: H5Fint.c line 1910 in H5F_open(): unable to lock the file\n",
      "    major: File accessibility\n",
      "    minor: Unable to lock file\n",
      "  #006: H5FD.c line 2412 in H5FD_lock(): driver lock request failed\n",
      "    major: Virtual File Layer\n",
      "    minor: Unable to lock file\n",
      "  #007: H5FDsec2.c line 941 in H5FD__sec2_lock(): unable to lock file, errno = 11, error message = 'Resource temporarily unavailable'\n",
      "    major: Virtual File Layer\n",
      "    minor: Unable to lock file\n",
      " ERROR: Failed to open HDF5 file with mode 'w': summary.h5\n",
      "--------------------------------------------------------------------------\n",
      "MPI_ABORT was invoked on rank 0 in communicator MPI_COMM_WORLD\n",
      "  Proc: [[20760,0],0]\n",
      "  Errorcode: -1\n",
      "\n",
      "NOTE: invoking MPI_ABORT causes Open MPI to kill all MPI processes.\n",
      "You may or may not see output from other processes, depending on\n",
      "exactly when Open MPI kills them.\n",
      "--------------------------------------------------------------------------\n"
     ]
    },
    {
     "ename": "RuntimeError",
     "evalue": "Failed to open HDF5 file with mode 'w': summary.h5 -------------------------------------------------------------------------- MPI_ABORT was invoked on rank 0 in communicator MPI_COMM_WORLD Proc: [[20760,0],0] Errorcode: -1 NOTE: invoking MPI_ABORT causes Open MPI to kill all MPI processes. You may or may not see output from other processes, depending on exactly when Open MPI kills them. --------------------------------------------------------------------------",
     "output_type": "error",
     "traceback": [
      "\u001b[0;31m---------------------------------------------------------------------------\u001b[0m",
      "\u001b[0;31mRuntimeError\u001b[0m                              Traceback (most recent call last)",
      "Cell \u001b[0;32mIn[47], line 1\u001b[0m\n\u001b[0;32m----> 1\u001b[0m sp_file \u001b[38;5;241m=\u001b[39m \u001b[43mmodel\u001b[49m\u001b[38;5;241;43m.\u001b[39;49m\u001b[43mrun\u001b[49m\u001b[43m(\u001b[49m\u001b[43m)\u001b[49m\n",
      "File \u001b[0;32m~/miniconda3/envs/openmc-env/lib/python3.12/site-packages/openmc/model/model.py:704\u001b[0m, in \u001b[0;36mModel.run\u001b[0;34m(self, particles, threads, geometry_debug, restart_file, tracks, output, cwd, openmc_exec, mpi_args, event_based, export_model_xml, **export_kwargs)\u001b[0m\n\u001b[1;32m    702\u001b[0m         \u001b[38;5;28mself\u001b[39m\u001b[38;5;241m.\u001b[39mexport_to_xml(\u001b[38;5;241m*\u001b[39m\u001b[38;5;241m*\u001b[39mexport_kwargs)\n\u001b[1;32m    703\u001b[0m     path_input \u001b[38;5;241m=\u001b[39m export_kwargs\u001b[38;5;241m.\u001b[39mget(\u001b[38;5;124m\"\u001b[39m\u001b[38;5;124mpath\u001b[39m\u001b[38;5;124m\"\u001b[39m, \u001b[38;5;28;01mNone\u001b[39;00m)\n\u001b[0;32m--> 704\u001b[0m     \u001b[43mopenmc\u001b[49m\u001b[38;5;241;43m.\u001b[39;49m\u001b[43mrun\u001b[49m\u001b[43m(\u001b[49m\u001b[43mparticles\u001b[49m\u001b[43m,\u001b[49m\u001b[43m \u001b[49m\u001b[43mthreads\u001b[49m\u001b[43m,\u001b[49m\u001b[43m \u001b[49m\u001b[43mgeometry_debug\u001b[49m\u001b[43m,\u001b[49m\u001b[43m \u001b[49m\u001b[43mrestart_file\u001b[49m\u001b[43m,\u001b[49m\n\u001b[1;32m    705\u001b[0m \u001b[43m               \u001b[49m\u001b[43mtracks\u001b[49m\u001b[43m,\u001b[49m\u001b[43m \u001b[49m\u001b[43moutput\u001b[49m\u001b[43m,\u001b[49m\u001b[43m \u001b[49m\u001b[43mPath\u001b[49m\u001b[43m(\u001b[49m\u001b[38;5;124;43m'\u001b[39;49m\u001b[38;5;124;43m.\u001b[39;49m\u001b[38;5;124;43m'\u001b[39;49m\u001b[43m)\u001b[49m\u001b[43m,\u001b[49m\u001b[43m \u001b[49m\u001b[43mopenmc_exec\u001b[49m\u001b[43m,\u001b[49m\u001b[43m \u001b[49m\u001b[43mmpi_args\u001b[49m\u001b[43m,\u001b[49m\n\u001b[1;32m    706\u001b[0m \u001b[43m               \u001b[49m\u001b[43mevent_based\u001b[49m\u001b[43m,\u001b[49m\u001b[43m \u001b[49m\u001b[43mpath_input\u001b[49m\u001b[43m)\u001b[49m\n\u001b[1;32m    708\u001b[0m \u001b[38;5;66;03m# Get output directory and return the last statepoint written\u001b[39;00m\n\u001b[1;32m    709\u001b[0m \u001b[38;5;28;01mif\u001b[39;00m \u001b[38;5;28mself\u001b[39m\u001b[38;5;241m.\u001b[39msettings\u001b[38;5;241m.\u001b[39moutput \u001b[38;5;129;01mand\u001b[39;00m \u001b[38;5;124m'\u001b[39m\u001b[38;5;124mpath\u001b[39m\u001b[38;5;124m'\u001b[39m \u001b[38;5;129;01min\u001b[39;00m \u001b[38;5;28mself\u001b[39m\u001b[38;5;241m.\u001b[39msettings\u001b[38;5;241m.\u001b[39moutput:\n",
      "File \u001b[0;32m~/miniconda3/envs/openmc-env/lib/python3.12/site-packages/openmc/executor.py:314\u001b[0m, in \u001b[0;36mrun\u001b[0;34m(particles, threads, geometry_debug, restart_file, tracks, output, cwd, openmc_exec, mpi_args, event_based, path_input)\u001b[0m\n\u001b[1;32m    261\u001b[0m \u001b[38;5;250m\u001b[39m\u001b[38;5;124;03m\"\"\"Run an OpenMC simulation.\u001b[39;00m\n\u001b[1;32m    262\u001b[0m \n\u001b[1;32m    263\u001b[0m \u001b[38;5;124;03mParameters\u001b[39;00m\n\u001b[0;32m   (...)\u001b[0m\n\u001b[1;32m    305\u001b[0m \n\u001b[1;32m    306\u001b[0m \u001b[38;5;124;03m\"\"\"\u001b[39;00m\n\u001b[1;32m    308\u001b[0m args \u001b[38;5;241m=\u001b[39m _process_CLI_arguments(\n\u001b[1;32m    309\u001b[0m     volume\u001b[38;5;241m=\u001b[39m\u001b[38;5;28;01mFalse\u001b[39;00m, geometry_debug\u001b[38;5;241m=\u001b[39mgeometry_debug, particles\u001b[38;5;241m=\u001b[39mparticles,\n\u001b[1;32m    310\u001b[0m     restart_file\u001b[38;5;241m=\u001b[39mrestart_file, threads\u001b[38;5;241m=\u001b[39mthreads, tracks\u001b[38;5;241m=\u001b[39mtracks,\n\u001b[1;32m    311\u001b[0m     event_based\u001b[38;5;241m=\u001b[39mevent_based, openmc_exec\u001b[38;5;241m=\u001b[39mopenmc_exec, mpi_args\u001b[38;5;241m=\u001b[39mmpi_args,\n\u001b[1;32m    312\u001b[0m     path_input\u001b[38;5;241m=\u001b[39mpath_input)\n\u001b[0;32m--> 314\u001b[0m \u001b[43m_run\u001b[49m\u001b[43m(\u001b[49m\u001b[43margs\u001b[49m\u001b[43m,\u001b[49m\u001b[43m \u001b[49m\u001b[43moutput\u001b[49m\u001b[43m,\u001b[49m\u001b[43m \u001b[49m\u001b[43mcwd\u001b[49m\u001b[43m)\u001b[49m\n",
      "File \u001b[0;32m~/miniconda3/envs/openmc-env/lib/python3.12/site-packages/openmc/executor.py:125\u001b[0m, in \u001b[0;36m_run\u001b[0;34m(args, output, cwd)\u001b[0m\n\u001b[1;32m    122\u001b[0m     error_msg \u001b[38;5;241m=\u001b[39m \u001b[38;5;124m'\u001b[39m\u001b[38;5;124mOpenMC aborted unexpectedly.\u001b[39m\u001b[38;5;124m'\u001b[39m\n\u001b[1;32m    123\u001b[0m error_msg \u001b[38;5;241m=\u001b[39m \u001b[38;5;124m'\u001b[39m\u001b[38;5;124m \u001b[39m\u001b[38;5;124m'\u001b[39m\u001b[38;5;241m.\u001b[39mjoin(error_msg\u001b[38;5;241m.\u001b[39msplit())\n\u001b[0;32m--> 125\u001b[0m \u001b[38;5;28;01mraise\u001b[39;00m \u001b[38;5;167;01mRuntimeError\u001b[39;00m(error_msg)\n",
      "\u001b[0;31mRuntimeError\u001b[0m: Failed to open HDF5 file with mode 'w': summary.h5 -------------------------------------------------------------------------- MPI_ABORT was invoked on rank 0 in communicator MPI_COMM_WORLD Proc: [[20760,0],0] Errorcode: -1 NOTE: invoking MPI_ABORT causes Open MPI to kill all MPI processes. You may or may not see output from other processes, depending on exactly when Open MPI kills them. --------------------------------------------------------------------------"
     ]
    }
   ],
   "source": [
    "sp_file = model.run()"
   ]
  },
  {
   "cell_type": "code",
   "execution_count": null,
   "id": "ef701355-f4eb-4504-bd02-e012400d147d",
   "metadata": {},
   "outputs": [],
   "source": []
  }
 ],
 "metadata": {
  "kernelspec": {
   "display_name": "Python 3 (ipykernel)",
   "language": "python",
   "name": "python3"
  },
  "language_info": {
   "codemirror_mode": {
    "name": "ipython",
    "version": 3
   },
   "file_extension": ".py",
   "mimetype": "text/x-python",
   "name": "python",
   "nbconvert_exporter": "python",
   "pygments_lexer": "ipython3",
   "version": "3.12.8"
  }
 },
 "nbformat": 4,
 "nbformat_minor": 5
}
