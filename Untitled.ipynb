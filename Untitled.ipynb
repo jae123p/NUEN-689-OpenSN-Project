{
 "cells": [
  {
   "cell_type": "code",
   "execution_count": 2,
   "id": "5e3364bd-0407-4d3e-9ada-b2771e1bac20",
   "metadata": {},
   "outputs": [],
   "source": [
    "import openmc\n",
    "import openmc.mgxs\n",
    "import math\n",
    "import matplotlib.pyplot as plt\n",
    "import numpy as np\n",
    "import pandas\n",
    "import h5py\n",
    "%matplotlib inline"
   ]
  },
  {
   "cell_type": "code",
   "execution_count": 3,
   "id": "1f1ac443-2d9c-466b-9d92-d17380f6b3d3",
   "metadata": {},
   "outputs": [],
   "source": [
    "import os"
   ]
  },
  {
   "cell_type": "code",
   "execution_count": 4,
   "id": "8811cd9f-e3c1-49bf-8e63-f4716ac5b2cf",
   "metadata": {},
   "outputs": [
    {
     "name": "stdout",
     "output_type": "stream",
     "text": [
      "env: OPENMC_CROSS_SECTIONS=/home/jae123p/endfb80/endfb-viii.0-hdf5/cross_sections.xml\n"
     ]
    }
   ],
   "source": [
    "os.environ['PATH'] += r':/home/jae123p/miniconda3/envs/openmc-env/bin'\n",
    "\n",
    "%env OPENMC_CROSS_SECTIONS=/home/jae123p/endfb80/endfb-viii.0-hdf5/cross_sections.xml"
   ]
  },
  {
   "cell_type": "code",
   "execution_count": null,
   "id": "8ef19153-54a5-48f8-8aa6-694910c26fc2",
   "metadata": {},
   "outputs": [],
   "source": []
  }
 ],
 "metadata": {
  "kernelspec": {
   "display_name": "Python 3 (ipykernel)",
   "language": "python",
   "name": "python3"
  },
  "language_info": {
   "codemirror_mode": {
    "name": "ipython",
    "version": 3
   },
   "file_extension": ".py",
   "mimetype": "text/x-python",
   "name": "python",
   "nbconvert_exporter": "python",
   "pygments_lexer": "ipython3",
   "version": "3.12.8"
  }
 },
 "nbformat": 4,
 "nbformat_minor": 5
}
