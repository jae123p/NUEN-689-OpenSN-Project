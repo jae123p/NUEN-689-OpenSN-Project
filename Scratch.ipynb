{
 "cells": [
  {
   "cell_type": "code",
   "execution_count": null,
   "id": "06a2d984-0025-4be0-97a6-939fd10aaf5f",
   "metadata": {},
   "outputs": [],
   "source": [
    "import gmsh\n",
    "import sys\n",
    "gmsh.initialize()\n",
    "gmsh.model.add(\"mesh_with_occt\")\n",
    "# Define geometry parameters (example: two spheres)\n",
    "innerRadius = 5\n",
    "outerRadius = 10\n",
    "# Create the outer sphere (radius 10) and inner sphere (radius 5)\n",
    "outerSphere = gmsh.model.occ.addSphere(0, 0, 0, outerRadius)\n",
    "innerSphere = gmsh.model.occ.addSphere(0, 0, 0, innerRadius)\n",
    "# Perform a Boolean difference to create a shell, but keep the inner sphere (tool)\n",
    "cutResult = gmsh.model.occ.cut([(3, outerSphere)], [(3, innerSphere)],\n",
    "removeTool=False)\n",
    "# For safety, print the result to inspect the structure.\n",
    "print(\"Cut result:\", cutResult)\n",
    "# Synchronize the CAD kernel with the Gmsh model\n",
    "gmsh.model.occ.synchronize()\n",
    "# Identify the volumes: we expect two volumes (the inner sphere and the shell)\n",
    "volEntities = gmsh.model.getEntities(2)\n",
    "print(\"Volumes:\", volEntities)\n",
    "shell_volume = None\n",
    "for (dim, tag) in volEntities:\n",
    "if tag != innerSphere:\n",
    "shell_volume = tag\n",
    "break\n",
    "if shell_volume is None:\n",
    "raise RuntimeError(\"Could not identify the shell volume.\")\n",
    "# Define physical groups for the inner sphere and shell\n",
    "gmsh.model.addPhysicalGroup(3, [innerSphere], tag=1)\n",
    "gmsh.model.setPhysicalName(3, 1, \"Inner\")\n",
    "gmsh.model.addPhysicalGroup(3, [shell_volume], tag=2)\n",
    "gmsh.model.setPhysicalName(3, 2, \"Shell\")\n",
    "# Create a MathEval field to control the mesh size based on z.\n",
    "fieldTag = gmsh.model.mesh.field.add(\"MathEval\")\n",
    "# gmsh.model.mesh.field.setString(fieldTag, \"F\", \"if(z-1e-4<0,0.9,2.3)\")\n",
    "gmsh.model.mesh.field.setString(fieldTag, \"F\", \"0.95\")\n",
    "# Use this field as the background mesh field.\n",
    "gmsh.model.mesh.field.setAsBackgroundMesh(fieldTag)\n",
    "# Generate the 3D mesh\n",
    "gmsh.model.mesh.generate(3)\n",
    "# Save mesh in VTK format\n",
    "gmsh.write(\"vtk_meshes/two_spheres.vtk\")\n",
    "if \"-nopopup\" not in sys.argv:\n",
    "gmsh.fltk.run()\n",
    "gmsh.finalize()"
   ]
  }
 ],
 "metadata": {
  "kernelspec": {
   "display_name": "Python 3 (ipykernel)",
   "language": "python",
   "name": "python3"
  },
  "language_info": {
   "codemirror_mode": {
    "name": "ipython",
    "version": 3
   },
   "file_extension": ".py",
   "mimetype": "text/x-python",
   "name": "python",
   "nbconvert_exporter": "python",
   "pygments_lexer": "ipython3",
   "version": "3.12.8"
  }
 },
 "nbformat": 4,
 "nbformat_minor": 5
}
