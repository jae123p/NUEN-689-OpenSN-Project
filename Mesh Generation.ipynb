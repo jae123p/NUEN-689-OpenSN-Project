{
 "cells": [
  {
   "cell_type": "code",
   "execution_count": 104,
   "id": "a87feb6c-1f4c-4393-b0e3-d26f2600c2c4",
   "metadata": {},
   "outputs": [
    {
     "name": "stdout",
     "output_type": "stream",
     "text": [
      "Info    : Clearing all models and views...\n",
      "Info    : Done clearing all models and views\n"
     ]
    }
   ],
   "source": [
    "import gmsh\n",
    "import sys\n",
    "import math\n",
    "\n",
    "# Before using any functions in the Python API, Gmsh must be initialized:\n",
    "gmsh.initialize()\n",
    "\n",
    "gmsh.clear()\n",
    "# Next we add a new model named \"t1\" (if gmsh.model.add() is not called a new\n",
    "# unnamed model will be created on the fly, if necessary):\n",
    "gmsh.model.add(\"HEU-MET-FAST-003=1\")"
   ]
  },
  {
   "cell_type": "code",
   "execution_count": 105,
   "id": "c88e571e-0fd2-491f-b81c-49ba1e283ea7",
   "metadata": {},
   "outputs": [],
   "source": [
    "# Define geometry parameters (example: two spheres)\n",
    "inner_radius = 6.1535\n",
    "outer_radius = 18.8535"
   ]
  },
  {
   "cell_type": "code",
   "execution_count": 106,
   "id": "c175857b-c378-4591-9277-f5b4ac45192f",
   "metadata": {},
   "outputs": [],
   "source": [
    "inner_sphere = gmsh.model.occ.addSphere(0, 0, 0, inner_radius)\n",
    "outer_sphere = gmsh.model.occ.addSphere(0, 0, 0, outer_radius)"
   ]
  },
  {
   "cell_type": "code",
   "execution_count": 107,
   "id": "ec59ab62-7e3b-4c2f-a1db-5201aa17a261",
   "metadata": {},
   "outputs": [
    {
     "name": "stdout",
     "output_type": "stream",
     "text": [
      "Cut result: ([(3, 2)], [[(3, 2)], []])                                                                                    \n",
      "Volumes: [(3, 1), (3, 2)]\n"
     ]
    }
   ],
   "source": [
    "cutResult = gmsh.model.occ.cut([(3, outer_sphere)], [(3, inner_sphere)], removeTool=False)\n",
    "\n",
    "print(\"Cut result:\", cutResult)\n",
    "# Synchronize the CAD kernel with the Gmsh model\n",
    "gmsh.model.occ.synchronize()\n",
    "# Identify the volumes: we expect two volumes (the inner sphere and the shell)\n",
    "volEntities = gmsh.model.getEntities(3)\n",
    "print(\"Volumes:\", volEntities)\n",
    "shell_volume = None\n",
    "for (dim, tag) in volEntities:\n",
    "    if tag != inner_sphere:\n",
    "        shell_volume = tag\n",
    "        break\n",
    "        \n",
    "if shell_volume is None:\n",
    "    raise RuntimeError(\"Could not identify the shell volume.\")\n",
    "# Define physical groups for the inner sphere and shell"
   ]
  },
  {
   "cell_type": "code",
   "execution_count": 108,
   "id": "867bc7b4-0e39-4049-a957-cd1c11f274f5",
   "metadata": {},
   "outputs": [],
   "source": [
    "# Define physical groups for the inner sphere and shell\n",
    "gmsh.model.addPhysicalGroup(3, [inner_sphere], tag=1)\n",
    "gmsh.model.setPhysicalName(3, 1, \"Inner\")\n",
    "gmsh.model.addPhysicalGroup(3, [shell_volume], tag=2)\n",
    "gmsh.model.setPhysicalName(3, 2, \"Outer\")\n",
    "# Create a MathEval field to control the mesh size based on z.\n",
    "fieldTag = gmsh.model.mesh.field.add(\"MathEval\")\n",
    "gmsh.model.mesh.field.setString(fieldTag, \"F\", \"2.5\")\n",
    "# Use this field as the background mesh field.\n",
    "gmsh.model.mesh.field.setAsBackgroundMesh(fieldTag)"
   ]
  },
  {
   "cell_type": "code",
   "execution_count": 109,
   "id": "323c2c2b-2dd9-48e6-93bc-96a0b9f651cb",
   "metadata": {},
   "outputs": [
    {
     "name": "stdout",
     "output_type": "stream",
     "text": [
      "Info    : Meshing 1D...\n",
      "Info    : [ 20%] Meshing curve 2 (Circle)\n",
      "Info    : [ 70%] Meshing curve 5 (Circle)\n",
      "Info    : Done meshing 1D (Wall 0.000244258s, CPU 0.000371s)\n",
      "Info    : Meshing 2D...\n",
      "Info    : [  0%] Meshing surface 1 (Sphere, Frontal-Delaunay)\n",
      "Info    : [ 60%] Meshing surface 2 (Sphere, Frontal-Delaunay)\n",
      "Info    : Done meshing 2D (Wall 0.0376819s, CPU 0.039355s)\n",
      "Info    : Meshing 3D...\n",
      "Info    : 3D Meshing 2 volumes with 1 connected component\n",
      "Info    : Tetrahedrizing 1000 nodes...\n",
      "Info    : Done tetrahedrizing 1008 nodes (Wall 0.00607736s, CPU 0.005342s)\n",
      "Info    : Reconstructing mesh...\n",
      "Info    :  - Creating surface mesh\n",
      "Info    :  - Identifying boundary edges\n",
      "Info    :  - Recovering boundary\n",
      "Info    : Done reconstructing mesh (Wall 0.0134533s, CPU 0.013059s)\n",
      "Info    : Found volume 2\n",
      "Info    : Found volume 1\n",
      "Info    : It. 0 - 0 nodes created - worst tet radius 2.85343 (nodes removed 0 0)\n",
      "Info    : It. 500 - 498 nodes created - worst tet radius 1.19857 (nodes removed 0 2)\n",
      "Info    : 3D refinement terminated (1905 nodes total):\n",
      "Info    :  - 2 Delaunay cavities modified for star shapeness\n",
      "Info    :  - 2 nodes could not be inserted\n",
      "Info    :  - 9066 tetrahedra created in 0.0293957 sec. (308412 tets/s)\n",
      "Info    : 0 node relocations\n",
      "Info    : Done meshing 3D (Wall 0.0683302s, CPU 0.068261s)\n",
      "Info    : Optimizing mesh...\n",
      "Info    : Optimizing volume 1\n",
      "Info    : Optimization starts (volume = 916.603) with worst = 0.0491213 / average = 0.764181:\n",
      "Info    : 0.00 < quality < 0.10 :         1 elements\n",
      "Info    : 0.10 < quality < 0.20 :         1 elements\n",
      "Info    : 0.20 < quality < 0.30 :         4 elements\n",
      "Info    : 0.30 < quality < 0.40 :         6 elements\n",
      "Info    : 0.40 < quality < 0.50 :         5 elements\n",
      "Info    : 0.50 < quality < 0.60 :        17 elements\n",
      "Info    : 0.60 < quality < 0.70 :        32 elements\n",
      "Info    : 0.70 < quality < 0.80 :       121 elements\n",
      "Info    : 0.80 < quality < 0.90 :       119 elements\n",
      "Info    : 0.90 < quality < 1.00 :        33 elements\n",
      "Info    : 6 edge swaps, 0 node relocations (volume = 916.603): worst = 0.306358 / average = 0.776062 (Wall 0.000104677s, CPU 0.000147s)\n",
      "Info    : No ill-shaped tets in the mesh :-)\n",
      "Info    : 0.00 < quality < 0.10 :         0 elements\n",
      "Info    : 0.10 < quality < 0.20 :         0 elements\n",
      "Info    : 0.20 < quality < 0.30 :         0 elements\n",
      "Info    : 0.30 < quality < 0.40 :         6 elements\n",
      "Info    : 0.40 < quality < 0.50 :         4 elements\n",
      "Info    : 0.50 < quality < 0.60 :        16 elements\n",
      "Info    : 0.60 < quality < 0.70 :        31 elements\n",
      "Info    : 0.70 < quality < 0.80 :       122 elements\n",
      "Info    : 0.80 < quality < 0.90 :       123 elements\n",
      "Info    : 0.90 < quality < 1.00 :        31 elements\n",
      "Info    : Optimizing volume 2\n",
      "Info    : Optimization starts (volume = 26980.8) with worst = 0.00497902 / average = 0.763128:\n",
      "Info    : 0.00 < quality < 0.10 :        20 elements\n",
      "Info    : 0.10 < quality < 0.20 :        52 elements\n",
      "Info    : 0.20 < quality < 0.30 :       130 elements\n",
      "Info    : 0.30 < quality < 0.40 :       177 elements\n",
      "Info    : 0.40 < quality < 0.50 :       260 elements\n",
      "Info    : 0.50 < quality < 0.60 :       464 elements\n",
      "Info    : 0.60 < quality < 0.70 :      1034 elements\n",
      "Info    : 0.70 < quality < 0.80 :      2173 elements\n",
      "Info    : 0.80 < quality < 0.90 :      3104 elements\n",
      "Info    : 0.90 < quality < 1.00 :      1313 elements\n",
      "Info    : 200 edge swaps, 4 node relocations (volume = 26980.8): worst = 0.181674 / average = 0.778188 (Wall 0.00229025s, CPU 0.002422s)\n",
      "Info    : 201 edge swaps, 4 node relocations (volume = 26980.8): worst = 0.257047 / average = 0.778255 (Wall 0.0028318s, CPU 0.003012s)\n",
      "Info    : 202 edge swaps, 4 node relocations (volume = 26980.8): worst = 0.257047 / average = 0.77822 (Wall 0.00332827s, CPU 0.00356s)\n",
      "Info    : No ill-shaped tets in the mesh :-)\n",
      "Info    : 0.00 < quality < 0.10 :         0 elements\n",
      "Info    : 0.10 < quality < 0.20 :         0 elements\n",
      "Info    : 0.20 < quality < 0.30 :         1 elements\n",
      "Info    : 0.30 < quality < 0.40 :       172 elements\n",
      "Info    : 0.40 < quality < 0.50 :       241 elements\n",
      "Info    : 0.50 < quality < 0.60 :       430 elements\n",
      "Info    : 0.60 < quality < 0.70 :      1062 elements\n",
      "Info    : 0.70 < quality < 0.80 :      2149 elements\n",
      "Info    : 0.80 < quality < 0.90 :      3166 elements\n",
      "Info    : 0.90 < quality < 1.00 :      1314 elements\n",
      "Info    : Done optimizing mesh (Wall 0.00882398s, CPU 0.009157s)\n",
      "Info    : 1905 nodes 10898 elements\n",
      "Info    : Writing 'two_spheres.vtk'...\n",
      "Info    : Done writing 'two_spheres.vtk'\n",
      "Info    : Writing 'Meshes/case_4.msh'...\n",
      "Info    : Done writing 'Meshes/case_4.msh'\n",
      "-------------------------------------------------------\n",
      "Version       : 4.13.1\n",
      "License       : GNU General Public License\n",
      "Build OS      : Linux64-sdk\n",
      "Build date    : 20240524\n",
      "Build host    : gmsh.info\n",
      "Build options : 64Bit ALGLIB[contrib] ANN[contrib] Bamg Blas[petsc] Blossom Cgns DIntegration Dlopen DomHex Eigen[contrib] Fltk Gmm[contrib] Hxt Jpeg Kbipack Lapack[petsc] LinuxJoystick MathEx[contrib] Med Mesh Metis[contrib] Mmg Mpeg Netgen Nii2mesh ONELAB ONELABMetamodel OpenCASCADE OpenCASCADE-CAF OpenGL OpenMP OptHom PETSc Parser Plugins Png Post QuadMeshingTools QuadTri Solver TetGen/BR TinyXML2[contrib] Untangle Voro++[contrib] WinslowUntangler Zlib\n",
      "FLTK version  : 1.4.0\n",
      "PETSc version : 3.14.4 (real arithmtic)\n",
      "OCC version   : 7.7.2\n",
      "MED version   : 4.1.0\n",
      "Packaged by   : geuzaine\n",
      "Web site      : https://gmsh.info\n",
      "Issue tracker : https://gitlab.onelab.info/gmsh/gmsh/issues\n",
      "-------------------------------------------------------\n"
     ]
    }
   ],
   "source": [
    "# Generate the 3D mesh\n",
    "gmsh.model.mesh.generate(3)\n",
    "# Save mesh in VTK format\n",
    "gmsh.write(\"two_spheres.vtk\")\n",
    "gmsh.write(\"Meshes/case_4.msh\")\n",
    "if \"-nopopup\" not in sys.argv:\n",
    "    gmsh.fltk.run()\n",
    "    gmsh.finalize()"
   ]
  },
  {
   "cell_type": "code",
   "execution_count": null,
   "id": "50a79d30-3a2f-42ce-bf6c-821813205443",
   "metadata": {},
   "outputs": [],
   "source": []
  },
  {
   "cell_type": "code",
   "execution_count": null,
   "id": "4e48a727-9120-48c2-9833-d6476d0d3e0b",
   "metadata": {},
   "outputs": [],
   "source": []
  }
 ],
 "metadata": {
  "kernelspec": {
   "display_name": "Python 3 (ipykernel)",
   "language": "python",
   "name": "python3"
  },
  "language_info": {
   "codemirror_mode": {
    "name": "ipython",
    "version": 3
   },
   "file_extension": ".py",
   "mimetype": "text/x-python",
   "name": "python",
   "nbconvert_exporter": "python",
   "pygments_lexer": "ipython3",
   "version": "3.12.8"
  }
 },
 "nbformat": 4,
 "nbformat_minor": 5
}
